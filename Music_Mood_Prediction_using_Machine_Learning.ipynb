{
  "cells": [
    {
      "cell_type": "markdown",
      "metadata": {
        "id": "XXJ6LGURcvJu"
      },
      "source": [
        "# **Music Mood Prediction using Machine Learning**\n",
        "Music mood prediction is a process of determining the mood of a piece of music by analyzing various features of the music such as acousticness, energy, valence etc. The goal of music mood prediction is to accurately classify a piece of music into one or more mood categories, such as happy, sad, energetic, or calm."
      ]
    },
    {
      "cell_type": "markdown",
      "metadata": {
        "id": "rMHn2wDDheHZ"
      },
      "source": [
        "### ***Imports***"
      ]
    },
    {
      "cell_type": "code",
      "execution_count": null,
      "metadata": {
        "id": "yU98oZMohgw6"
      },
      "outputs": [],
      "source": [
        "import pandas as pd\n",
        "import numpy as np\n",
        "import seaborn as sns\n",
        "import matplotlib.pyplot as plt"
      ]
    },
    {
      "cell_type": "markdown",
      "metadata": {
        "id": "8BNoAx7Vc2v4"
      },
      "source": [
        "### ***Loading Dataset***"
      ]
    },
    {
      "cell_type": "code",
      "execution_count": null,
      "metadata": {
        "colab": {
          "base_uri": "https://localhost:8080/"
        },
        "id": "RwM_q_hHetsf",
        "outputId": "1a24db89-c309-484e-a93f-ef208885b3a0"
      },
      "outputs": [
        {
          "name": "stdout",
          "output_type": "stream",
          "text": [
            "Mounted at /content/gdrive\n"
          ]
        }
      ],
      "source": [
        "from google.colab import drive\n",
        "drive.mount(\"/content/gdrive\")"
      ]
    },
    {
      "cell_type": "code",
      "execution_count": null,
      "metadata": {
        "id": "y7uI5hK6cmRL"
      },
      "outputs": [],
      "source": [
        "!mkdir /content/MusicMoodDataset\n",
        "!cp /content/gdrive/MyDrive/MusicMoodDataset/* /content/MusicMoodDataset/"
      ]
    },
    {
      "cell_type": "code",
      "execution_count": null,
      "metadata": {
        "id": "GtrxmKq8hCkI"
      },
      "outputs": [],
      "source": [
        "dataset_path = \"/content/MusicMoodDataset/SpotifyAudioFeaturesApril2019.csv\"\n",
        "supervised_dataset_path = \"/content/MusicMoodDataset/data_moods.csv\""
      ]
    },
    {
      "cell_type": "code",
      "execution_count": null,
      "metadata": {
        "id": "30KvaXAuhjfo"
      },
      "outputs": [],
      "source": [
        "dataset = pd.read_csv(dataset_path)\n",
        "supervised_dataset = pd.read_csv(supervised_dataset_path)"
      ]
    },
    {
      "cell_type": "code",
      "execution_count": null,
      "metadata": {
        "colab": {
          "base_uri": "https://localhost:8080/",
          "height": 426
        },
        "id": "I_AWlFdJiIoR",
        "outputId": "9cb2c7c5-7a9e-4bf8-85f9-a99e6e64cff9"
      },
      "outputs": [
        {
          "data": {
            "text/html": [
              "\n",
              "  <div id=\"df-a397cf52-1450-404a-893a-e9a79ee11840\">\n",
              "    <div class=\"colab-df-container\">\n",
              "      <div>\n",
              "<style scoped>\n",
              "    .dataframe tbody tr th:only-of-type {\n",
              "        vertical-align: middle;\n",
              "    }\n",
              "\n",
              "    .dataframe tbody tr th {\n",
              "        vertical-align: top;\n",
              "    }\n",
              "\n",
              "    .dataframe thead th {\n",
              "        text-align: right;\n",
              "    }\n",
              "</style>\n",
              "<table border=\"1\" class=\"dataframe\">\n",
              "  <thead>\n",
              "    <tr style=\"text-align: right;\">\n",
              "      <th></th>\n",
              "      <th>artist_name</th>\n",
              "      <th>track_id</th>\n",
              "      <th>track_name</th>\n",
              "      <th>acousticness</th>\n",
              "      <th>danceability</th>\n",
              "      <th>duration_ms</th>\n",
              "      <th>energy</th>\n",
              "      <th>instrumentalness</th>\n",
              "      <th>key</th>\n",
              "      <th>liveness</th>\n",
              "      <th>loudness</th>\n",
              "      <th>mode</th>\n",
              "      <th>speechiness</th>\n",
              "      <th>tempo</th>\n",
              "      <th>time_signature</th>\n",
              "      <th>valence</th>\n",
              "      <th>popularity</th>\n",
              "    </tr>\n",
              "  </thead>\n",
              "  <tbody>\n",
              "    <tr>\n",
              "      <th>0</th>\n",
              "      <td>YG</td>\n",
              "      <td>2RM4jf1Xa9zPgMGRDiht8O</td>\n",
              "      <td>Big Bank feat. 2 Chainz, Big Sean, Nicki Minaj</td>\n",
              "      <td>0.005820</td>\n",
              "      <td>0.743</td>\n",
              "      <td>238373</td>\n",
              "      <td>0.339</td>\n",
              "      <td>0.000</td>\n",
              "      <td>1</td>\n",
              "      <td>0.0812</td>\n",
              "      <td>-7.678</td>\n",
              "      <td>1</td>\n",
              "      <td>0.4090</td>\n",
              "      <td>203.927</td>\n",
              "      <td>4</td>\n",
              "      <td>0.118</td>\n",
              "      <td>15</td>\n",
              "    </tr>\n",
              "    <tr>\n",
              "      <th>1</th>\n",
              "      <td>YG</td>\n",
              "      <td>1tHDG53xJNGsItRA3vfVgs</td>\n",
              "      <td>BAND DRUM (feat. A$AP Rocky)</td>\n",
              "      <td>0.024400</td>\n",
              "      <td>0.846</td>\n",
              "      <td>214800</td>\n",
              "      <td>0.557</td>\n",
              "      <td>0.000</td>\n",
              "      <td>8</td>\n",
              "      <td>0.2860</td>\n",
              "      <td>-7.259</td>\n",
              "      <td>1</td>\n",
              "      <td>0.4570</td>\n",
              "      <td>159.009</td>\n",
              "      <td>4</td>\n",
              "      <td>0.371</td>\n",
              "      <td>0</td>\n",
              "    </tr>\n",
              "    <tr>\n",
              "      <th>2</th>\n",
              "      <td>R3HAB</td>\n",
              "      <td>6Wosx2euFPMT14UXiWudMy</td>\n",
              "      <td>Radio Silence</td>\n",
              "      <td>0.025000</td>\n",
              "      <td>0.603</td>\n",
              "      <td>138913</td>\n",
              "      <td>0.723</td>\n",
              "      <td>0.000</td>\n",
              "      <td>9</td>\n",
              "      <td>0.0824</td>\n",
              "      <td>-5.890</td>\n",
              "      <td>0</td>\n",
              "      <td>0.0454</td>\n",
              "      <td>114.966</td>\n",
              "      <td>4</td>\n",
              "      <td>0.382</td>\n",
              "      <td>56</td>\n",
              "    </tr>\n",
              "    <tr>\n",
              "      <th>3</th>\n",
              "      <td>Chris Cooq</td>\n",
              "      <td>3J2Jpw61sO7l6Hc7qdYV91</td>\n",
              "      <td>Lactose</td>\n",
              "      <td>0.029400</td>\n",
              "      <td>0.800</td>\n",
              "      <td>125381</td>\n",
              "      <td>0.579</td>\n",
              "      <td>0.912</td>\n",
              "      <td>5</td>\n",
              "      <td>0.0994</td>\n",
              "      <td>-12.118</td>\n",
              "      <td>0</td>\n",
              "      <td>0.0701</td>\n",
              "      <td>123.003</td>\n",
              "      <td>4</td>\n",
              "      <td>0.641</td>\n",
              "      <td>0</td>\n",
              "    </tr>\n",
              "    <tr>\n",
              "      <th>4</th>\n",
              "      <td>Chris Cooq</td>\n",
              "      <td>2jbYvQCyPgX3CdmAzeVeuS</td>\n",
              "      <td>Same - Original mix</td>\n",
              "      <td>0.000035</td>\n",
              "      <td>0.783</td>\n",
              "      <td>124016</td>\n",
              "      <td>0.792</td>\n",
              "      <td>0.878</td>\n",
              "      <td>7</td>\n",
              "      <td>0.0332</td>\n",
              "      <td>-10.277</td>\n",
              "      <td>1</td>\n",
              "      <td>0.0661</td>\n",
              "      <td>120.047</td>\n",
              "      <td>4</td>\n",
              "      <td>0.928</td>\n",
              "      <td>0</td>\n",
              "    </tr>\n",
              "  </tbody>\n",
              "</table>\n",
              "</div>\n",
              "      <button class=\"colab-df-convert\" onclick=\"convertToInteractive('df-a397cf52-1450-404a-893a-e9a79ee11840')\"\n",
              "              title=\"Convert this dataframe to an interactive table.\"\n",
              "              style=\"display:none;\">\n",
              "        \n",
              "  <svg xmlns=\"http://www.w3.org/2000/svg\" height=\"24px\"viewBox=\"0 0 24 24\"\n",
              "       width=\"24px\">\n",
              "    <path d=\"M0 0h24v24H0V0z\" fill=\"none\"/>\n",
              "    <path d=\"M18.56 5.44l.94 2.06.94-2.06 2.06-.94-2.06-.94-.94-2.06-.94 2.06-2.06.94zm-11 1L8.5 8.5l.94-2.06 2.06-.94-2.06-.94L8.5 2.5l-.94 2.06-2.06.94zm10 10l.94 2.06.94-2.06 2.06-.94-2.06-.94-.94-2.06-.94 2.06-2.06.94z\"/><path d=\"M17.41 7.96l-1.37-1.37c-.4-.4-.92-.59-1.43-.59-.52 0-1.04.2-1.43.59L10.3 9.45l-7.72 7.72c-.78.78-.78 2.05 0 2.83L4 21.41c.39.39.9.59 1.41.59.51 0 1.02-.2 1.41-.59l7.78-7.78 2.81-2.81c.8-.78.8-2.07 0-2.86zM5.41 20L4 18.59l7.72-7.72 1.47 1.35L5.41 20z\"/>\n",
              "  </svg>\n",
              "      </button>\n",
              "      \n",
              "  <style>\n",
              "    .colab-df-container {\n",
              "      display:flex;\n",
              "      flex-wrap:wrap;\n",
              "      gap: 12px;\n",
              "    }\n",
              "\n",
              "    .colab-df-convert {\n",
              "      background-color: #E8F0FE;\n",
              "      border: none;\n",
              "      border-radius: 50%;\n",
              "      cursor: pointer;\n",
              "      display: none;\n",
              "      fill: #1967D2;\n",
              "      height: 32px;\n",
              "      padding: 0 0 0 0;\n",
              "      width: 32px;\n",
              "    }\n",
              "\n",
              "    .colab-df-convert:hover {\n",
              "      background-color: #E2EBFA;\n",
              "      box-shadow: 0px 1px 2px rgba(60, 64, 67, 0.3), 0px 1px 3px 1px rgba(60, 64, 67, 0.15);\n",
              "      fill: #174EA6;\n",
              "    }\n",
              "\n",
              "    [theme=dark] .colab-df-convert {\n",
              "      background-color: #3B4455;\n",
              "      fill: #D2E3FC;\n",
              "    }\n",
              "\n",
              "    [theme=dark] .colab-df-convert:hover {\n",
              "      background-color: #434B5C;\n",
              "      box-shadow: 0px 1px 3px 1px rgba(0, 0, 0, 0.15);\n",
              "      filter: drop-shadow(0px 1px 2px rgba(0, 0, 0, 0.3));\n",
              "      fill: #FFFFFF;\n",
              "    }\n",
              "  </style>\n",
              "\n",
              "      <script>\n",
              "        const buttonEl =\n",
              "          document.querySelector('#df-a397cf52-1450-404a-893a-e9a79ee11840 button.colab-df-convert');\n",
              "        buttonEl.style.display =\n",
              "          google.colab.kernel.accessAllowed ? 'block' : 'none';\n",
              "\n",
              "        async function convertToInteractive(key) {\n",
              "          const element = document.querySelector('#df-a397cf52-1450-404a-893a-e9a79ee11840');\n",
              "          const dataTable =\n",
              "            await google.colab.kernel.invokeFunction('convertToInteractive',\n",
              "                                                     [key], {});\n",
              "          if (!dataTable) return;\n",
              "\n",
              "          const docLinkHtml = 'Like what you see? Visit the ' +\n",
              "            '<a target=\"_blank\" href=https://colab.research.google.com/notebooks/data_table.ipynb>data table notebook</a>'\n",
              "            + ' to learn more about interactive tables.';\n",
              "          element.innerHTML = '';\n",
              "          dataTable['output_type'] = 'display_data';\n",
              "          await google.colab.output.renderOutput(dataTable, element);\n",
              "          const docLink = document.createElement('div');\n",
              "          docLink.innerHTML = docLinkHtml;\n",
              "          element.appendChild(docLink);\n",
              "        }\n",
              "      </script>\n",
              "    </div>\n",
              "  </div>\n",
              "  "
            ],
            "text/plain": [
              "  artist_name                track_id  \\\n",
              "0          YG  2RM4jf1Xa9zPgMGRDiht8O   \n",
              "1          YG  1tHDG53xJNGsItRA3vfVgs   \n",
              "2       R3HAB  6Wosx2euFPMT14UXiWudMy   \n",
              "3  Chris Cooq  3J2Jpw61sO7l6Hc7qdYV91   \n",
              "4  Chris Cooq  2jbYvQCyPgX3CdmAzeVeuS   \n",
              "\n",
              "                                       track_name  acousticness  danceability  \\\n",
              "0  Big Bank feat. 2 Chainz, Big Sean, Nicki Minaj      0.005820         0.743   \n",
              "1                    BAND DRUM (feat. A$AP Rocky)      0.024400         0.846   \n",
              "2                                   Radio Silence      0.025000         0.603   \n",
              "3                                         Lactose      0.029400         0.800   \n",
              "4                             Same - Original mix      0.000035         0.783   \n",
              "\n",
              "   duration_ms  energy  instrumentalness  key  liveness  loudness  mode  \\\n",
              "0       238373   0.339             0.000    1    0.0812    -7.678     1   \n",
              "1       214800   0.557             0.000    8    0.2860    -7.259     1   \n",
              "2       138913   0.723             0.000    9    0.0824    -5.890     0   \n",
              "3       125381   0.579             0.912    5    0.0994   -12.118     0   \n",
              "4       124016   0.792             0.878    7    0.0332   -10.277     1   \n",
              "\n",
              "   speechiness    tempo  time_signature  valence  popularity  \n",
              "0       0.4090  203.927               4    0.118          15  \n",
              "1       0.4570  159.009               4    0.371           0  \n",
              "2       0.0454  114.966               4    0.382          56  \n",
              "3       0.0701  123.003               4    0.641           0  \n",
              "4       0.0661  120.047               4    0.928           0  "
            ]
          },
          "execution_count": 6,
          "metadata": {},
          "output_type": "execute_result"
        }
      ],
      "source": [
        "dataset.head()"
      ]
    },
    {
      "cell_type": "code",
      "execution_count": null,
      "metadata": {
        "colab": {
          "base_uri": "https://localhost:8080/"
        },
        "id": "XbmrMH-jifSl",
        "outputId": "ebc69532-a9d1-4f0d-8442-32763767120b"
      },
      "outputs": [
        {
          "name": "stdout",
          "output_type": "stream",
          "text": [
            "Columns = Index(['artist_name', 'track_id', 'track_name', 'acousticness', 'danceability',\n",
            "       'duration_ms', 'energy', 'instrumentalness', 'key', 'liveness',\n",
            "       'loudness', 'mode', 'speechiness', 'tempo', 'time_signature', 'valence',\n",
            "       'popularity'],\n",
            "      dtype='object')\n",
            "Shape = (130663, 17)\n"
          ]
        }
      ],
      "source": [
        "print(f\"Columns = {dataset.columns}\")\n",
        "print(f\"Shape = {dataset.shape}\")"
      ]
    },
    {
      "cell_type": "code",
      "execution_count": null,
      "metadata": {
        "colab": {
          "base_uri": "https://localhost:8080/"
        },
        "id": "m5mEHaVoks_-",
        "outputId": "76c78976-c0da-4e3e-e5e3-fef7cbed6d42"
      },
      "outputs": [
        {
          "name": "stdout",
          "output_type": "stream",
          "text": [
            "<class 'pandas.core.frame.DataFrame'>\n",
            "RangeIndex: 130663 entries, 0 to 130662\n",
            "Data columns (total 17 columns):\n",
            " #   Column            Non-Null Count   Dtype  \n",
            "---  ------            --------------   -----  \n",
            " 0   artist_name       130663 non-null  object \n",
            " 1   track_id          130663 non-null  object \n",
            " 2   track_name        130663 non-null  object \n",
            " 3   acousticness      130663 non-null  float64\n",
            " 4   danceability      130663 non-null  float64\n",
            " 5   duration_ms       130663 non-null  int64  \n",
            " 6   energy            130663 non-null  float64\n",
            " 7   instrumentalness  130663 non-null  float64\n",
            " 8   key               130663 non-null  int64  \n",
            " 9   liveness          130663 non-null  float64\n",
            " 10  loudness          130663 non-null  float64\n",
            " 11  mode              130663 non-null  int64  \n",
            " 12  speechiness       130663 non-null  float64\n",
            " 13  tempo             130663 non-null  float64\n",
            " 14  time_signature    130663 non-null  int64  \n",
            " 15  valence           130663 non-null  float64\n",
            " 16  popularity        130663 non-null  int64  \n",
            "dtypes: float64(9), int64(5), object(3)\n",
            "memory usage: 16.9+ MB\n"
          ]
        }
      ],
      "source": [
        "dataset.info()"
      ]
    },
    {
      "cell_type": "markdown",
      "metadata": {
        "id": "zt-YNt8Mkw7m"
      },
      "source": [
        "### ***Dropping Irrelevant Columns***"
      ]
    },
    {
      "cell_type": "code",
      "execution_count": null,
      "metadata": {
        "colab": {
          "base_uri": "https://localhost:8080/"
        },
        "id": "BTXpXSV7pmgA",
        "outputId": "dac7a6b8-0cd3-4be5-b188-a343f1cd7375"
      },
      "outputs": [
        {
          "data": {
            "text/plain": [
              "Index(['name', 'album', 'artist', 'id', 'release_date', 'popularity', 'length',\n",
              "       'danceability', 'acousticness', 'energy', 'instrumentalness',\n",
              "       'liveness', 'valence', 'loudness', 'speechiness', 'tempo', 'key',\n",
              "       'time_signature', 'mood'],\n",
              "      dtype='object')"
            ]
          },
          "execution_count": 9,
          "metadata": {},
          "output_type": "execute_result"
        }
      ],
      "source": [
        "supervised_dataset.columns"
      ]
    },
    {
      "cell_type": "code",
      "execution_count": null,
      "metadata": {
        "id": "aOHabas3kwl_"
      },
      "outputs": [],
      "source": [
        "drop_cols = [\"artist_name\",\"track_id\",\"track_name\",\"duration_ms\",\"popularity\",\"mode\"]\n",
        "sup_drop_cols = [\"name\",\"artist\",\"id\",\"release_date\",\"popularity\",\"length\",\"album\"]\n",
        "dataset=dataset.drop(columns = drop_cols)\n",
        "supervised_dataset=supervised_dataset.drop(columns = sup_drop_cols)"
      ]
    },
    {
      "cell_type": "code",
      "execution_count": null,
      "metadata": {
        "colab": {
          "base_uri": "https://localhost:8080/",
          "height": 206
        },
        "id": "RGlW4qCJlk6-",
        "outputId": "d01ce1ef-125a-44e7-e37f-5440e51df8e8"
      },
      "outputs": [
        {
          "data": {
            "text/html": [
              "\n",
              "  <div id=\"df-033791bb-02bc-4f6f-b932-c16fb7dc4a24\">\n",
              "    <div class=\"colab-df-container\">\n",
              "      <div>\n",
              "<style scoped>\n",
              "    .dataframe tbody tr th:only-of-type {\n",
              "        vertical-align: middle;\n",
              "    }\n",
              "\n",
              "    .dataframe tbody tr th {\n",
              "        vertical-align: top;\n",
              "    }\n",
              "\n",
              "    .dataframe thead th {\n",
              "        text-align: right;\n",
              "    }\n",
              "</style>\n",
              "<table border=\"1\" class=\"dataframe\">\n",
              "  <thead>\n",
              "    <tr style=\"text-align: right;\">\n",
              "      <th></th>\n",
              "      <th>acousticness</th>\n",
              "      <th>danceability</th>\n",
              "      <th>energy</th>\n",
              "      <th>instrumentalness</th>\n",
              "      <th>key</th>\n",
              "      <th>liveness</th>\n",
              "      <th>loudness</th>\n",
              "      <th>speechiness</th>\n",
              "      <th>tempo</th>\n",
              "      <th>time_signature</th>\n",
              "      <th>valence</th>\n",
              "    </tr>\n",
              "  </thead>\n",
              "  <tbody>\n",
              "    <tr>\n",
              "      <th>0</th>\n",
              "      <td>0.005820</td>\n",
              "      <td>0.743</td>\n",
              "      <td>0.339</td>\n",
              "      <td>0.000</td>\n",
              "      <td>1</td>\n",
              "      <td>0.0812</td>\n",
              "      <td>-7.678</td>\n",
              "      <td>0.4090</td>\n",
              "      <td>203.927</td>\n",
              "      <td>4</td>\n",
              "      <td>0.118</td>\n",
              "    </tr>\n",
              "    <tr>\n",
              "      <th>1</th>\n",
              "      <td>0.024400</td>\n",
              "      <td>0.846</td>\n",
              "      <td>0.557</td>\n",
              "      <td>0.000</td>\n",
              "      <td>8</td>\n",
              "      <td>0.2860</td>\n",
              "      <td>-7.259</td>\n",
              "      <td>0.4570</td>\n",
              "      <td>159.009</td>\n",
              "      <td>4</td>\n",
              "      <td>0.371</td>\n",
              "    </tr>\n",
              "    <tr>\n",
              "      <th>2</th>\n",
              "      <td>0.025000</td>\n",
              "      <td>0.603</td>\n",
              "      <td>0.723</td>\n",
              "      <td>0.000</td>\n",
              "      <td>9</td>\n",
              "      <td>0.0824</td>\n",
              "      <td>-5.890</td>\n",
              "      <td>0.0454</td>\n",
              "      <td>114.966</td>\n",
              "      <td>4</td>\n",
              "      <td>0.382</td>\n",
              "    </tr>\n",
              "    <tr>\n",
              "      <th>3</th>\n",
              "      <td>0.029400</td>\n",
              "      <td>0.800</td>\n",
              "      <td>0.579</td>\n",
              "      <td>0.912</td>\n",
              "      <td>5</td>\n",
              "      <td>0.0994</td>\n",
              "      <td>-12.118</td>\n",
              "      <td>0.0701</td>\n",
              "      <td>123.003</td>\n",
              "      <td>4</td>\n",
              "      <td>0.641</td>\n",
              "    </tr>\n",
              "    <tr>\n",
              "      <th>4</th>\n",
              "      <td>0.000035</td>\n",
              "      <td>0.783</td>\n",
              "      <td>0.792</td>\n",
              "      <td>0.878</td>\n",
              "      <td>7</td>\n",
              "      <td>0.0332</td>\n",
              "      <td>-10.277</td>\n",
              "      <td>0.0661</td>\n",
              "      <td>120.047</td>\n",
              "      <td>4</td>\n",
              "      <td>0.928</td>\n",
              "    </tr>\n",
              "  </tbody>\n",
              "</table>\n",
              "</div>\n",
              "      <button class=\"colab-df-convert\" onclick=\"convertToInteractive('df-033791bb-02bc-4f6f-b932-c16fb7dc4a24')\"\n",
              "              title=\"Convert this dataframe to an interactive table.\"\n",
              "              style=\"display:none;\">\n",
              "        \n",
              "  <svg xmlns=\"http://www.w3.org/2000/svg\" height=\"24px\"viewBox=\"0 0 24 24\"\n",
              "       width=\"24px\">\n",
              "    <path d=\"M0 0h24v24H0V0z\" fill=\"none\"/>\n",
              "    <path d=\"M18.56 5.44l.94 2.06.94-2.06 2.06-.94-2.06-.94-.94-2.06-.94 2.06-2.06.94zm-11 1L8.5 8.5l.94-2.06 2.06-.94-2.06-.94L8.5 2.5l-.94 2.06-2.06.94zm10 10l.94 2.06.94-2.06 2.06-.94-2.06-.94-.94-2.06-.94 2.06-2.06.94z\"/><path d=\"M17.41 7.96l-1.37-1.37c-.4-.4-.92-.59-1.43-.59-.52 0-1.04.2-1.43.59L10.3 9.45l-7.72 7.72c-.78.78-.78 2.05 0 2.83L4 21.41c.39.39.9.59 1.41.59.51 0 1.02-.2 1.41-.59l7.78-7.78 2.81-2.81c.8-.78.8-2.07 0-2.86zM5.41 20L4 18.59l7.72-7.72 1.47 1.35L5.41 20z\"/>\n",
              "  </svg>\n",
              "      </button>\n",
              "      \n",
              "  <style>\n",
              "    .colab-df-container {\n",
              "      display:flex;\n",
              "      flex-wrap:wrap;\n",
              "      gap: 12px;\n",
              "    }\n",
              "\n",
              "    .colab-df-convert {\n",
              "      background-color: #E8F0FE;\n",
              "      border: none;\n",
              "      border-radius: 50%;\n",
              "      cursor: pointer;\n",
              "      display: none;\n",
              "      fill: #1967D2;\n",
              "      height: 32px;\n",
              "      padding: 0 0 0 0;\n",
              "      width: 32px;\n",
              "    }\n",
              "\n",
              "    .colab-df-convert:hover {\n",
              "      background-color: #E2EBFA;\n",
              "      box-shadow: 0px 1px 2px rgba(60, 64, 67, 0.3), 0px 1px 3px 1px rgba(60, 64, 67, 0.15);\n",
              "      fill: #174EA6;\n",
              "    }\n",
              "\n",
              "    [theme=dark] .colab-df-convert {\n",
              "      background-color: #3B4455;\n",
              "      fill: #D2E3FC;\n",
              "    }\n",
              "\n",
              "    [theme=dark] .colab-df-convert:hover {\n",
              "      background-color: #434B5C;\n",
              "      box-shadow: 0px 1px 3px 1px rgba(0, 0, 0, 0.15);\n",
              "      filter: drop-shadow(0px 1px 2px rgba(0, 0, 0, 0.3));\n",
              "      fill: #FFFFFF;\n",
              "    }\n",
              "  </style>\n",
              "\n",
              "      <script>\n",
              "        const buttonEl =\n",
              "          document.querySelector('#df-033791bb-02bc-4f6f-b932-c16fb7dc4a24 button.colab-df-convert');\n",
              "        buttonEl.style.display =\n",
              "          google.colab.kernel.accessAllowed ? 'block' : 'none';\n",
              "\n",
              "        async function convertToInteractive(key) {\n",
              "          const element = document.querySelector('#df-033791bb-02bc-4f6f-b932-c16fb7dc4a24');\n",
              "          const dataTable =\n",
              "            await google.colab.kernel.invokeFunction('convertToInteractive',\n",
              "                                                     [key], {});\n",
              "          if (!dataTable) return;\n",
              "\n",
              "          const docLinkHtml = 'Like what you see? Visit the ' +\n",
              "            '<a target=\"_blank\" href=https://colab.research.google.com/notebooks/data_table.ipynb>data table notebook</a>'\n",
              "            + ' to learn more about interactive tables.';\n",
              "          element.innerHTML = '';\n",
              "          dataTable['output_type'] = 'display_data';\n",
              "          await google.colab.output.renderOutput(dataTable, element);\n",
              "          const docLink = document.createElement('div');\n",
              "          docLink.innerHTML = docLinkHtml;\n",
              "          element.appendChild(docLink);\n",
              "        }\n",
              "      </script>\n",
              "    </div>\n",
              "  </div>\n",
              "  "
            ],
            "text/plain": [
              "   acousticness  danceability  energy  instrumentalness  key  liveness  \\\n",
              "0      0.005820         0.743   0.339             0.000    1    0.0812   \n",
              "1      0.024400         0.846   0.557             0.000    8    0.2860   \n",
              "2      0.025000         0.603   0.723             0.000    9    0.0824   \n",
              "3      0.029400         0.800   0.579             0.912    5    0.0994   \n",
              "4      0.000035         0.783   0.792             0.878    7    0.0332   \n",
              "\n",
              "   loudness  speechiness    tempo  time_signature  valence  \n",
              "0    -7.678       0.4090  203.927               4    0.118  \n",
              "1    -7.259       0.4570  159.009               4    0.371  \n",
              "2    -5.890       0.0454  114.966               4    0.382  \n",
              "3   -12.118       0.0701  123.003               4    0.641  \n",
              "4   -10.277       0.0661  120.047               4    0.928  "
            ]
          },
          "execution_count": 11,
          "metadata": {},
          "output_type": "execute_result"
        }
      ],
      "source": [
        "dataset.head()"
      ]
    },
    {
      "cell_type": "markdown",
      "metadata": {
        "id": "QBPYgfmSi7HM"
      },
      "source": [
        "### ***Sorting the dataset***"
      ]
    },
    {
      "cell_type": "code",
      "execution_count": null,
      "metadata": {
        "id": "jWPyKNMlrrEs"
      },
      "outputs": [],
      "source": [
        "dataset = dataset[sorted(dataset.columns)]\n",
        "supervised_dataset = supervised_dataset[sorted(supervised_dataset.columns)]"
      ]
    },
    {
      "cell_type": "code",
      "execution_count": null,
      "metadata": {
        "colab": {
          "base_uri": "https://localhost:8080/",
          "height": 206
        },
        "id": "o_JqVP1BsFFq",
        "outputId": "55f64038-6756-47b8-c8ee-ba6b0a6fc29c"
      },
      "outputs": [
        {
          "data": {
            "text/html": [
              "\n",
              "  <div id=\"df-93d5ef6f-5c83-41f3-8912-fc6978b01df4\">\n",
              "    <div class=\"colab-df-container\">\n",
              "      <div>\n",
              "<style scoped>\n",
              "    .dataframe tbody tr th:only-of-type {\n",
              "        vertical-align: middle;\n",
              "    }\n",
              "\n",
              "    .dataframe tbody tr th {\n",
              "        vertical-align: top;\n",
              "    }\n",
              "\n",
              "    .dataframe thead th {\n",
              "        text-align: right;\n",
              "    }\n",
              "</style>\n",
              "<table border=\"1\" class=\"dataframe\">\n",
              "  <thead>\n",
              "    <tr style=\"text-align: right;\">\n",
              "      <th></th>\n",
              "      <th>acousticness</th>\n",
              "      <th>danceability</th>\n",
              "      <th>energy</th>\n",
              "      <th>instrumentalness</th>\n",
              "      <th>key</th>\n",
              "      <th>liveness</th>\n",
              "      <th>loudness</th>\n",
              "      <th>mood</th>\n",
              "      <th>speechiness</th>\n",
              "      <th>tempo</th>\n",
              "      <th>time_signature</th>\n",
              "      <th>valence</th>\n",
              "    </tr>\n",
              "  </thead>\n",
              "  <tbody>\n",
              "    <tr>\n",
              "      <th>0</th>\n",
              "      <td>0.13700</td>\n",
              "      <td>0.866</td>\n",
              "      <td>0.730</td>\n",
              "      <td>0.000000</td>\n",
              "      <td>5</td>\n",
              "      <td>0.0843</td>\n",
              "      <td>-8.201</td>\n",
              "      <td>Happy</td>\n",
              "      <td>0.0767</td>\n",
              "      <td>118.523</td>\n",
              "      <td>4</td>\n",
              "      <td>0.625</td>\n",
              "    </tr>\n",
              "    <tr>\n",
              "      <th>1</th>\n",
              "      <td>0.01890</td>\n",
              "      <td>0.381</td>\n",
              "      <td>0.832</td>\n",
              "      <td>0.196000</td>\n",
              "      <td>8</td>\n",
              "      <td>0.1530</td>\n",
              "      <td>-5.069</td>\n",
              "      <td>Sad</td>\n",
              "      <td>0.0492</td>\n",
              "      <td>120.255</td>\n",
              "      <td>4</td>\n",
              "      <td>0.166</td>\n",
              "    </tr>\n",
              "    <tr>\n",
              "      <th>2</th>\n",
              "      <td>0.91300</td>\n",
              "      <td>0.346</td>\n",
              "      <td>0.139</td>\n",
              "      <td>0.000077</td>\n",
              "      <td>0</td>\n",
              "      <td>0.0934</td>\n",
              "      <td>-15.326</td>\n",
              "      <td>Sad</td>\n",
              "      <td>0.0321</td>\n",
              "      <td>136.168</td>\n",
              "      <td>4</td>\n",
              "      <td>0.116</td>\n",
              "    </tr>\n",
              "    <tr>\n",
              "      <th>3</th>\n",
              "      <td>0.08900</td>\n",
              "      <td>0.466</td>\n",
              "      <td>0.438</td>\n",
              "      <td>0.000006</td>\n",
              "      <td>4</td>\n",
              "      <td>0.1130</td>\n",
              "      <td>-12.858</td>\n",
              "      <td>Happy</td>\n",
              "      <td>0.0608</td>\n",
              "      <td>193.100</td>\n",
              "      <td>4</td>\n",
              "      <td>0.587</td>\n",
              "    </tr>\n",
              "    <tr>\n",
              "      <th>4</th>\n",
              "      <td>0.00171</td>\n",
              "      <td>0.419</td>\n",
              "      <td>0.932</td>\n",
              "      <td>0.000000</td>\n",
              "      <td>1</td>\n",
              "      <td>0.1370</td>\n",
              "      <td>-3.604</td>\n",
              "      <td>Energetic</td>\n",
              "      <td>0.1060</td>\n",
              "      <td>169.881</td>\n",
              "      <td>4</td>\n",
              "      <td>0.445</td>\n",
              "    </tr>\n",
              "  </tbody>\n",
              "</table>\n",
              "</div>\n",
              "      <button class=\"colab-df-convert\" onclick=\"convertToInteractive('df-93d5ef6f-5c83-41f3-8912-fc6978b01df4')\"\n",
              "              title=\"Convert this dataframe to an interactive table.\"\n",
              "              style=\"display:none;\">\n",
              "        \n",
              "  <svg xmlns=\"http://www.w3.org/2000/svg\" height=\"24px\"viewBox=\"0 0 24 24\"\n",
              "       width=\"24px\">\n",
              "    <path d=\"M0 0h24v24H0V0z\" fill=\"none\"/>\n",
              "    <path d=\"M18.56 5.44l.94 2.06.94-2.06 2.06-.94-2.06-.94-.94-2.06-.94 2.06-2.06.94zm-11 1L8.5 8.5l.94-2.06 2.06-.94-2.06-.94L8.5 2.5l-.94 2.06-2.06.94zm10 10l.94 2.06.94-2.06 2.06-.94-2.06-.94-.94-2.06-.94 2.06-2.06.94z\"/><path d=\"M17.41 7.96l-1.37-1.37c-.4-.4-.92-.59-1.43-.59-.52 0-1.04.2-1.43.59L10.3 9.45l-7.72 7.72c-.78.78-.78 2.05 0 2.83L4 21.41c.39.39.9.59 1.41.59.51 0 1.02-.2 1.41-.59l7.78-7.78 2.81-2.81c.8-.78.8-2.07 0-2.86zM5.41 20L4 18.59l7.72-7.72 1.47 1.35L5.41 20z\"/>\n",
              "  </svg>\n",
              "      </button>\n",
              "      \n",
              "  <style>\n",
              "    .colab-df-container {\n",
              "      display:flex;\n",
              "      flex-wrap:wrap;\n",
              "      gap: 12px;\n",
              "    }\n",
              "\n",
              "    .colab-df-convert {\n",
              "      background-color: #E8F0FE;\n",
              "      border: none;\n",
              "      border-radius: 50%;\n",
              "      cursor: pointer;\n",
              "      display: none;\n",
              "      fill: #1967D2;\n",
              "      height: 32px;\n",
              "      padding: 0 0 0 0;\n",
              "      width: 32px;\n",
              "    }\n",
              "\n",
              "    .colab-df-convert:hover {\n",
              "      background-color: #E2EBFA;\n",
              "      box-shadow: 0px 1px 2px rgba(60, 64, 67, 0.3), 0px 1px 3px 1px rgba(60, 64, 67, 0.15);\n",
              "      fill: #174EA6;\n",
              "    }\n",
              "\n",
              "    [theme=dark] .colab-df-convert {\n",
              "      background-color: #3B4455;\n",
              "      fill: #D2E3FC;\n",
              "    }\n",
              "\n",
              "    [theme=dark] .colab-df-convert:hover {\n",
              "      background-color: #434B5C;\n",
              "      box-shadow: 0px 1px 3px 1px rgba(0, 0, 0, 0.15);\n",
              "      filter: drop-shadow(0px 1px 2px rgba(0, 0, 0, 0.3));\n",
              "      fill: #FFFFFF;\n",
              "    }\n",
              "  </style>\n",
              "\n",
              "      <script>\n",
              "        const buttonEl =\n",
              "          document.querySelector('#df-93d5ef6f-5c83-41f3-8912-fc6978b01df4 button.colab-df-convert');\n",
              "        buttonEl.style.display =\n",
              "          google.colab.kernel.accessAllowed ? 'block' : 'none';\n",
              "\n",
              "        async function convertToInteractive(key) {\n",
              "          const element = document.querySelector('#df-93d5ef6f-5c83-41f3-8912-fc6978b01df4');\n",
              "          const dataTable =\n",
              "            await google.colab.kernel.invokeFunction('convertToInteractive',\n",
              "                                                     [key], {});\n",
              "          if (!dataTable) return;\n",
              "\n",
              "          const docLinkHtml = 'Like what you see? Visit the ' +\n",
              "            '<a target=\"_blank\" href=https://colab.research.google.com/notebooks/data_table.ipynb>data table notebook</a>'\n",
              "            + ' to learn more about interactive tables.';\n",
              "          element.innerHTML = '';\n",
              "          dataTable['output_type'] = 'display_data';\n",
              "          await google.colab.output.renderOutput(dataTable, element);\n",
              "          const docLink = document.createElement('div');\n",
              "          docLink.innerHTML = docLinkHtml;\n",
              "          element.appendChild(docLink);\n",
              "        }\n",
              "      </script>\n",
              "    </div>\n",
              "  </div>\n",
              "  "
            ],
            "text/plain": [
              "   acousticness  danceability  energy  instrumentalness  key  liveness  \\\n",
              "0       0.13700         0.866   0.730          0.000000    5    0.0843   \n",
              "1       0.01890         0.381   0.832          0.196000    8    0.1530   \n",
              "2       0.91300         0.346   0.139          0.000077    0    0.0934   \n",
              "3       0.08900         0.466   0.438          0.000006    4    0.1130   \n",
              "4       0.00171         0.419   0.932          0.000000    1    0.1370   \n",
              "\n",
              "   loudness       mood  speechiness    tempo  time_signature  valence  \n",
              "0    -8.201      Happy       0.0767  118.523               4    0.625  \n",
              "1    -5.069        Sad       0.0492  120.255               4    0.166  \n",
              "2   -15.326        Sad       0.0321  136.168               4    0.116  \n",
              "3   -12.858      Happy       0.0608  193.100               4    0.587  \n",
              "4    -3.604  Energetic       0.1060  169.881               4    0.445  "
            ]
          },
          "execution_count": 13,
          "metadata": {},
          "output_type": "execute_result"
        }
      ],
      "source": [
        "supervised_dataset.head()"
      ]
    },
    {
      "cell_type": "code",
      "execution_count": null,
      "metadata": {
        "colab": {
          "base_uri": "https://localhost:8080/"
        },
        "id": "kg0HGHQcqWrl",
        "outputId": "b8fd3d79-ff5a-46a5-e051-0a4d8b4cc8b3"
      },
      "outputs": [
        {
          "name": "stdout",
          "output_type": "stream",
          "text": [
            "(686, 12)\n",
            "(130663, 11)\n"
          ]
        }
      ],
      "source": [
        "print(supervised_dataset.shape)\n",
        "print(dataset.shape)"
      ]
    },
    {
      "cell_type": "markdown",
      "metadata": {
        "id": "AmGUfRzilw-A"
      },
      "source": [
        "### ***Analysing the Data Distribution***"
      ]
    },
    {
      "cell_type": "code",
      "execution_count": null,
      "metadata": {
        "colab": {
          "base_uri": "https://localhost:8080/",
          "height": 391
        },
        "id": "44q4IR-bkaTF",
        "outputId": "2edf3633-5692-4643-ed8e-ab998ccdc369"
      },
      "outputs": [
        {
          "data": {
            "text/plain": [
              "<matplotlib.axes._subplots.AxesSubplot at 0x7f0ae852b340>"
            ]
          },
          "execution_count": 15,
          "metadata": {},
          "output_type": "execute_result"
        },
        {
          "data": {
            "image/png": "[encoded data removed]",
            "text/plain": [
              "<Figure size 864x432 with 1 Axes>"
            ]
          },
          "metadata": {},
          "output_type": "display_data"
        }
      ],
      "source": [
        "dataset.describe().T[\"min\"].plot(figsize=(12,6))\n",
        "# sns.kdeplot(dataset.describe().T[\"min\"])"
      ]
    },
    {
      "cell_type": "code",
      "execution_count": null,
      "metadata": {
        "colab": {
          "base_uri": "https://localhost:8080/",
          "height": 391
        },
        "id": "x8d26PEOiiUw",
        "outputId": "14d90520-87d8-4f4a-a180-86b732710818"
      },
      "outputs": [
        {
          "data": {
            "text/plain": [
              "<matplotlib.axes._subplots.AxesSubplot at 0x7f0ae8021cd0>"
            ]
          },
          "execution_count": 16,
          "metadata": {},
          "output_type": "execute_result"
        },
        {
          "data": {
            "image/png": "[encoded data removed]",
            "text/plain": [
              "<Figure size 864x432 with 1 Axes>"
            ]
          },
          "metadata": {},
          "output_type": "display_data"
        }
      ],
      "source": [
        "dataset.describe().T[\"max\"].plot(figsize=(12,6))\n",
        "# sns.distplot(dataset.describe().T[\"min\"])"
      ]
    },
    {
      "cell_type": "markdown",
      "metadata": {
        "id": "nXz-0z4fmkij"
      },
      "source": [
        "## **Normalizing the data**"
      ]
    },
    {
      "cell_type": "markdown",
      "metadata": {
        "id": "Z28u5mv3JYzm"
      },
      "source": [
        "### **MinMaxScaler**"
      ]
    },
    {
      "cell_type": "code",
      "execution_count": null,
      "metadata": {
        "id": "7OMTZZ-PmkBf"
      },
      "outputs": [],
      "source": [
        "from sklearn.preprocessing import MinMaxScaler\n",
        "\n",
        "data_cols = dataset.columns\n",
        "x = dataset.values #returns a numpy array\n",
        "min_max_scaler = MinMaxScaler()\n",
        "x_scaled = min_max_scaler.fit_transform(x)\n",
        "dataset = pd.DataFrame(x_scaled,columns = data_cols)"
      ]
    },
    {
      "cell_type": "code",
      "execution_count": null,
      "metadata": {
        "id": "BpKt9LDssgGf"
      },
      "outputs": [],
      "source": [
        "norm = supervised_dataset.drop(columns = [\"mood\"])\n",
        "data_cols = norm.columns\n",
        "x = norm.values #returns a numpy array\n",
        "min_max_scaler = MinMaxScaler()\n",
        "x_scaled = min_max_scaler.fit_transform(x)\n",
        "norm = pd.DataFrame(x_scaled,columns = data_cols)\n",
        "\n",
        "norm[\"mood\"] = supervised_dataset[\"mood\"].copy()\n",
        "supervised_dataset = norm.copy()\n",
        "del norm"
      ]
    },
    {
      "cell_type": "code",
      "execution_count": null,
      "metadata": {
        "colab": {
          "base_uri": "https://localhost:8080/",
          "height": 206
        },
        "id": "8ffAdoaCtYZV",
        "outputId": "5cd4070b-124d-445a-9170-6072519bfad9"
      },
      "outputs": [
        {
          "data": {
            "text/html": [
              "\n",
              "  <div id=\"df-3453246e-533a-4223-b2ca-527273f6677d\">\n",
              "    <div class=\"colab-df-container\">\n",
              "      <div>\n",
              "<style scoped>\n",
              "    .dataframe tbody tr th:only-of-type {\n",
              "        vertical-align: middle;\n",
              "    }\n",
              "\n",
              "    .dataframe tbody tr th {\n",
              "        vertical-align: top;\n",
              "    }\n",
              "\n",
              "    .dataframe thead th {\n",
              "        text-align: right;\n",
              "    }\n",
              "</style>\n",
              "<table border=\"1\" class=\"dataframe\">\n",
              "  <thead>\n",
              "    <tr style=\"text-align: right;\">\n",
              "      <th></th>\n",
              "      <th>acousticness</th>\n",
              "      <th>danceability</th>\n",
              "      <th>energy</th>\n",
              "      <th>instrumentalness</th>\n",
              "      <th>key</th>\n",
              "      <th>liveness</th>\n",
              "      <th>loudness</th>\n",
              "      <th>speechiness</th>\n",
              "      <th>tempo</th>\n",
              "      <th>time_signature</th>\n",
              "      <th>valence</th>\n",
              "    </tr>\n",
              "  </thead>\n",
              "  <tbody>\n",
              "    <tr>\n",
              "      <th>0</th>\n",
              "      <td>0.005843</td>\n",
              "      <td>0.745984</td>\n",
              "      <td>0.339</td>\n",
              "      <td>0.000</td>\n",
              "      <td>0.090909</td>\n",
              "      <td>0.081281</td>\n",
              "      <td>0.846552</td>\n",
              "      <td>0.423395</td>\n",
              "      <td>0.815763</td>\n",
              "      <td>0.8</td>\n",
              "      <td>0.118</td>\n",
              "    </tr>\n",
              "    <tr>\n",
              "      <th>1</th>\n",
              "      <td>0.024498</td>\n",
              "      <td>0.849398</td>\n",
              "      <td>0.557</td>\n",
              "      <td>0.000</td>\n",
              "      <td>0.727273</td>\n",
              "      <td>0.286286</td>\n",
              "      <td>0.853331</td>\n",
              "      <td>0.473085</td>\n",
              "      <td>0.636079</td>\n",
              "      <td>0.8</td>\n",
              "      <td>0.371</td>\n",
              "    </tr>\n",
              "    <tr>\n",
              "      <th>2</th>\n",
              "      <td>0.025100</td>\n",
              "      <td>0.605422</td>\n",
              "      <td>0.723</td>\n",
              "      <td>0.000</td>\n",
              "      <td>0.818182</td>\n",
              "      <td>0.082482</td>\n",
              "      <td>0.875481</td>\n",
              "      <td>0.046998</td>\n",
              "      <td>0.459895</td>\n",
              "      <td>0.8</td>\n",
              "      <td>0.382</td>\n",
              "    </tr>\n",
              "    <tr>\n",
              "      <th>3</th>\n",
              "      <td>0.029518</td>\n",
              "      <td>0.803213</td>\n",
              "      <td>0.579</td>\n",
              "      <td>0.912</td>\n",
              "      <td>0.454545</td>\n",
              "      <td>0.099499</td>\n",
              "      <td>0.774714</td>\n",
              "      <td>0.072567</td>\n",
              "      <td>0.492045</td>\n",
              "      <td>0.8</td>\n",
              "      <td>0.641</td>\n",
              "    </tr>\n",
              "    <tr>\n",
              "      <th>4</th>\n",
              "      <td>0.000035</td>\n",
              "      <td>0.786145</td>\n",
              "      <td>0.792</td>\n",
              "      <td>0.878</td>\n",
              "      <td>0.636364</td>\n",
              "      <td>0.033233</td>\n",
              "      <td>0.804501</td>\n",
              "      <td>0.068427</td>\n",
              "      <td>0.480221</td>\n",
              "      <td>0.8</td>\n",
              "      <td>0.928</td>\n",
              "    </tr>\n",
              "  </tbody>\n",
              "</table>\n",
              "</div>\n",
              "      <button class=\"colab-df-convert\" onclick=\"convertToInteractive('df-3453246e-533a-4223-b2ca-527273f6677d')\"\n",
              "              title=\"Convert this dataframe to an interactive table.\"\n",
              "              style=\"display:none;\">\n",
              "        \n",
              "  <svg xmlns=\"http://www.w3.org/2000/svg\" height=\"24px\"viewBox=\"0 0 24 24\"\n",
              "       width=\"24px\">\n",
              "    <path d=\"M0 0h24v24H0V0z\" fill=\"none\"/>\n",
              "    <path d=\"M18.56 5.44l.94 2.06.94-2.06 2.06-.94-2.06-.94-.94-2.06-.94 2.06-2.06.94zm-11 1L8.5 8.5l.94-2.06 2.06-.94-2.06-.94L8.5 2.5l-.94 2.06-2.06.94zm10 10l.94 2.06.94-2.06 2.06-.94-2.06-.94-.94-2.06-.94 2.06-2.06.94z\"/><path d=\"M17.41 7.96l-1.37-1.37c-.4-.4-.92-.59-1.43-.59-.52 0-1.04.2-1.43.59L10.3 9.45l-7.72 7.72c-.78.78-.78 2.05 0 2.83L4 21.41c.39.39.9.59 1.41.59.51 0 1.02-.2 1.41-.59l7.78-7.78 2.81-2.81c.8-.78.8-2.07 0-2.86zM5.41 20L4 18.59l7.72-7.72 1.47 1.35L5.41 20z\"/>\n",
              "  </svg>\n",
              "      </button>\n",
              "      \n",
              "  <style>\n",
              "    .colab-df-container {\n",
              "      display:flex;\n",
              "      flex-wrap:wrap;\n",
              "      gap: 12px;\n",
              "    }\n",
              "\n",
              "    .colab-df-convert {\n",
              "      background-color: #E8F0FE;\n",
              "      border: none;\n",
              "      border-radius: 50%;\n",
              "      cursor: pointer;\n",
              "      display: none;\n",
              "      fill: #1967D2;\n",
              "      height: 32px;\n",
              "      padding: 0 0 0 0;\n",
              "      width: 32px;\n",
              "    }\n",
              "\n",
              "    .colab-df-convert:hover {\n",
              "      background-color: #E2EBFA;\n",
              "      box-shadow: 0px 1px 2px rgba(60, 64, 67, 0.3), 0px 1px 3px 1px rgba(60, 64, 67, 0.15);\n",
              "      fill: #174EA6;\n",
              "    }\n",
              "\n",
              "    [theme=dark] .colab-df-convert {\n",
              "      background-color: #3B4455;\n",
              "      fill: #D2E3FC;\n",
              "    }\n",
              "\n",
              "    [theme=dark] .colab-df-convert:hover {\n",
              "      background-color: #434B5C;\n",
              "      box-shadow: 0px 1px 3px 1px rgba(0, 0, 0, 0.15);\n",
              "      filter: drop-shadow(0px 1px 2px rgba(0, 0, 0, 0.3));\n",
              "      fill: #FFFFFF;\n",
              "    }\n",
              "  </style>\n",
              "\n",
              "      <script>\n",
              "        const buttonEl =\n",
              "          document.querySelector('#df-3453246e-533a-4223-b2ca-527273f6677d button.colab-df-convert');\n",
              "        buttonEl.style.display =\n",
              "          google.colab.kernel.accessAllowed ? 'block' : 'none';\n",
              "\n",
              "        async function convertToInteractive(key) {\n",
              "          const element = document.querySelector('#df-3453246e-533a-4223-b2ca-527273f6677d');\n",
              "          const dataTable =\n",
              "            await google.colab.kernel.invokeFunction('convertToInteractive',\n",
              "                                                     [key], {});\n",
              "          if (!dataTable) return;\n",
              "\n",
              "          const docLinkHtml = 'Like what you see? Visit the ' +\n",
              "            '<a target=\"_blank\" href=https://colab.research.google.com/notebooks/data_table.ipynb>data table notebook</a>'\n",
              "            + ' to learn more about interactive tables.';\n",
              "          element.innerHTML = '';\n",
              "          dataTable['output_type'] = 'display_data';\n",
              "          await google.colab.output.renderOutput(dataTable, element);\n",
              "          const docLink = document.createElement('div');\n",
              "          docLink.innerHTML = docLinkHtml;\n",
              "          element.appendChild(docLink);\n",
              "        }\n",
              "      </script>\n",
              "    </div>\n",
              "  </div>\n",
              "  "
            ],
            "text/plain": [
              "   acousticness  danceability  energy  instrumentalness       key  liveness  \\\n",
              "0      0.005843      0.745984   0.339             0.000  0.090909  0.081281   \n",
              "1      0.024498      0.849398   0.557             0.000  0.727273  0.286286   \n",
              "2      0.025100      0.605422   0.723             0.000  0.818182  0.082482   \n",
              "3      0.029518      0.803213   0.579             0.912  0.454545  0.099499   \n",
              "4      0.000035      0.786145   0.792             0.878  0.636364  0.033233   \n",
              "\n",
              "   loudness  speechiness     tempo  time_signature  valence  \n",
              "0  0.846552     0.423395  0.815763             0.8    0.118  \n",
              "1  0.853331     0.473085  0.636079             0.8    0.371  \n",
              "2  0.875481     0.046998  0.459895             0.8    0.382  \n",
              "3  0.774714     0.072567  0.492045             0.8    0.641  \n",
              "4  0.804501     0.068427  0.480221             0.8    0.928  "
            ]
          },
          "execution_count": 19,
          "metadata": {},
          "output_type": "execute_result"
        }
      ],
      "source": [
        "dataset.head()"
      ]
    },
    {
      "cell_type": "code",
      "execution_count": null,
      "metadata": {
        "colab": {
          "base_uri": "https://localhost:8080/",
          "height": 206
        },
        "id": "AAvogXmJtBcA",
        "outputId": "efa8afc9-b146-47fb-d922-b9ce3554ebbd"
      },
      "outputs": [
        {
          "data": {
            "text/html": [
              "\n",
              "  <div id=\"df-9dae2c91-b038-4159-9473-62e3fd72c014\">\n",
              "    <div class=\"colab-df-container\">\n",
              "      <div>\n",
              "<style scoped>\n",
              "    .dataframe tbody tr th:only-of-type {\n",
              "        vertical-align: middle;\n",
              "    }\n",
              "\n",
              "    .dataframe tbody tr th {\n",
              "        vertical-align: top;\n",
              "    }\n",
              "\n",
              "    .dataframe thead th {\n",
              "        text-align: right;\n",
              "    }\n",
              "</style>\n",
              "<table border=\"1\" class=\"dataframe\">\n",
              "  <thead>\n",
              "    <tr style=\"text-align: right;\">\n",
              "      <th></th>\n",
              "      <th>acousticness</th>\n",
              "      <th>danceability</th>\n",
              "      <th>energy</th>\n",
              "      <th>instrumentalness</th>\n",
              "      <th>key</th>\n",
              "      <th>liveness</th>\n",
              "      <th>loudness</th>\n",
              "      <th>speechiness</th>\n",
              "      <th>tempo</th>\n",
              "      <th>time_signature</th>\n",
              "      <th>valence</th>\n",
              "      <th>mood</th>\n",
              "    </tr>\n",
              "  </thead>\n",
              "  <tbody>\n",
              "    <tr>\n",
              "      <th>0</th>\n",
              "      <td>0.137546</td>\n",
              "      <td>0.913003</td>\n",
              "      <td>0.734061</td>\n",
              "      <td>0.000000</td>\n",
              "      <td>0.454545</td>\n",
              "      <td>0.056379</td>\n",
              "      <td>0.779912</td>\n",
              "      <td>0.136202</td>\n",
              "      <td>0.404593</td>\n",
              "      <td>0.75</td>\n",
              "      <td>0.626208</td>\n",
              "      <td>Happy</td>\n",
              "    </tr>\n",
              "    <tr>\n",
              "      <th>1</th>\n",
              "      <td>0.018971</td>\n",
              "      <td>0.350423</td>\n",
              "      <td>0.836810</td>\n",
              "      <td>0.202899</td>\n",
              "      <td>0.727273</td>\n",
              "      <td>0.130155</td>\n",
              "      <td>0.852145</td>\n",
              "      <td>0.066191</td>\n",
              "      <td>0.414965</td>\n",
              "      <td>0.75</td>\n",
              "      <td>0.138792</td>\n",
              "      <td>Sad</td>\n",
              "    </tr>\n",
              "    <tr>\n",
              "      <th>2</th>\n",
              "      <td>0.916666</td>\n",
              "      <td>0.309825</td>\n",
              "      <td>0.138721</td>\n",
              "      <td>0.000080</td>\n",
              "      <td>0.000000</td>\n",
              "      <td>0.066151</td>\n",
              "      <td>0.615590</td>\n",
              "      <td>0.022658</td>\n",
              "      <td>0.510258</td>\n",
              "      <td>0.75</td>\n",
              "      <td>0.085696</td>\n",
              "      <td>Sad</td>\n",
              "    </tr>\n",
              "    <tr>\n",
              "      <th>3</th>\n",
              "      <td>0.089353</td>\n",
              "      <td>0.449020</td>\n",
              "      <td>0.439917</td>\n",
              "      <td>0.000006</td>\n",
              "      <td>0.363636</td>\n",
              "      <td>0.087199</td>\n",
              "      <td>0.672509</td>\n",
              "      <td>0.095723</td>\n",
              "      <td>0.851189</td>\n",
              "      <td>0.75</td>\n",
              "      <td>0.585855</td>\n",
              "      <td>Happy</td>\n",
              "    </tr>\n",
              "    <tr>\n",
              "      <th>4</th>\n",
              "      <td>0.001711</td>\n",
              "      <td>0.394502</td>\n",
              "      <td>0.937545</td>\n",
              "      <td>0.000000</td>\n",
              "      <td>0.090909</td>\n",
              "      <td>0.112973</td>\n",
              "      <td>0.885932</td>\n",
              "      <td>0.210794</td>\n",
              "      <td>0.712144</td>\n",
              "      <td>0.75</td>\n",
              "      <td>0.435064</td>\n",
              "      <td>Energetic</td>\n",
              "    </tr>\n",
              "  </tbody>\n",
              "</table>\n",
              "</div>\n",
              "      <button class=\"colab-df-convert\" onclick=\"convertToInteractive('df-9dae2c91-b038-4159-9473-62e3fd72c014')\"\n",
              "              title=\"Convert this dataframe to an interactive table.\"\n",
              "              style=\"display:none;\">\n",
              "        \n",
              "  <svg xmlns=\"http://www.w3.org/2000/svg\" height=\"24px\"viewBox=\"0 0 24 24\"\n",
              "       width=\"24px\">\n",
              "    <path d=\"M0 0h24v24H0V0z\" fill=\"none\"/>\n",
              "    <path d=\"M18.56 5.44l.94 2.06.94-2.06 2.06-.94-2.06-.94-.94-2.06-.94 2.06-2.06.94zm-11 1L8.5 8.5l.94-2.06 2.06-.94-2.06-.94L8.5 2.5l-.94 2.06-2.06.94zm10 10l.94 2.06.94-2.06 2.06-.94-2.06-.94-.94-2.06-.94 2.06-2.06.94z\"/><path d=\"M17.41 7.96l-1.37-1.37c-.4-.4-.92-.59-1.43-.59-.52 0-1.04.2-1.43.59L10.3 9.45l-7.72 7.72c-.78.78-.78 2.05 0 2.83L4 21.41c.39.39.9.59 1.41.59.51 0 1.02-.2 1.41-.59l7.78-7.78 2.81-2.81c.8-.78.8-2.07 0-2.86zM5.41 20L4 18.59l7.72-7.72 1.47 1.35L5.41 20z\"/>\n",
              "  </svg>\n",
              "      </button>\n",
              "      \n",
              "  <style>\n",
              "    .colab-df-container {\n",
              "      display:flex;\n",
              "      flex-wrap:wrap;\n",
              "      gap: 12px;\n",
              "    }\n",
              "\n",
              "    .colab-df-convert {\n",
              "      background-color: #E8F0FE;\n",
              "      border: none;\n",
              "      border-radius: 50%;\n",
              "      cursor: pointer;\n",
              "      display: none;\n",
              "      fill: #1967D2;\n",
              "      height: 32px;\n",
              "      padding: 0 0 0 0;\n",
              "      width: 32px;\n",
              "    }\n",
              "\n",
              "    .colab-df-convert:hover {\n",
              "      background-color: #E2EBFA;\n",
              "      box-shadow: 0px 1px 2px rgba(60, 64, 67, 0.3), 0px 1px 3px 1px rgba(60, 64, 67, 0.15);\n",
              "      fill: #174EA6;\n",
              "    }\n",
              "\n",
              "    [theme=dark] .colab-df-convert {\n",
              "      background-color: #3B4455;\n",
              "      fill: #D2E3FC;\n",
              "    }\n",
              "\n",
              "    [theme=dark] .colab-df-convert:hover {\n",
              "      background-color: #434B5C;\n",
              "      box-shadow: 0px 1px 3px 1px rgba(0, 0, 0, 0.15);\n",
              "      filter: drop-shadow(0px 1px 2px rgba(0, 0, 0, 0.3));\n",
              "      fill: #FFFFFF;\n",
              "    }\n",
              "  </style>\n",
              "\n",
              "      <script>\n",
              "        const buttonEl =\n",
              "          document.querySelector('#df-9dae2c91-b038-4159-9473-62e3fd72c014 button.colab-df-convert');\n",
              "        buttonEl.style.display =\n",
              "          google.colab.kernel.accessAllowed ? 'block' : 'none';\n",
              "\n",
              "        async function convertToInteractive(key) {\n",
              "          const element = document.querySelector('#df-9dae2c91-b038-4159-9473-62e3fd72c014');\n",
              "          const dataTable =\n",
              "            await google.colab.kernel.invokeFunction('convertToInteractive',\n",
              "                                                     [key], {});\n",
              "          if (!dataTable) return;\n",
              "\n",
              "          const docLinkHtml = 'Like what you see? Visit the ' +\n",
              "            '<a target=\"_blank\" href=https://colab.research.google.com/notebooks/data_table.ipynb>data table notebook</a>'\n",
              "            + ' to learn more about interactive tables.';\n",
              "          element.innerHTML = '';\n",
              "          dataTable['output_type'] = 'display_data';\n",
              "          await google.colab.output.renderOutput(dataTable, element);\n",
              "          const docLink = document.createElement('div');\n",
              "          docLink.innerHTML = docLinkHtml;\n",
              "          element.appendChild(docLink);\n",
              "        }\n",
              "      </script>\n",
              "    </div>\n",
              "  </div>\n",
              "  "
            ],
            "text/plain": [
              "   acousticness  danceability    energy  instrumentalness       key  liveness  \\\n",
              "0      0.137546      0.913003  0.734061          0.000000  0.454545  0.056379   \n",
              "1      0.018971      0.350423  0.836810          0.202899  0.727273  0.130155   \n",
              "2      0.916666      0.309825  0.138721          0.000080  0.000000  0.066151   \n",
              "3      0.089353      0.449020  0.439917          0.000006  0.363636  0.087199   \n",
              "4      0.001711      0.394502  0.937545          0.000000  0.090909  0.112973   \n",
              "\n",
              "   loudness  speechiness     tempo  time_signature   valence       mood  \n",
              "0  0.779912     0.136202  0.404593            0.75  0.626208      Happy  \n",
              "1  0.852145     0.066191  0.414965            0.75  0.138792        Sad  \n",
              "2  0.615590     0.022658  0.510258            0.75  0.085696        Sad  \n",
              "3  0.672509     0.095723  0.851189            0.75  0.585855      Happy  \n",
              "4  0.885932     0.210794  0.712144            0.75  0.435064  Energetic  "
            ]
          },
          "execution_count": 20,
          "metadata": {},
          "output_type": "execute_result"
        }
      ],
      "source": [
        "supervised_dataset.head()"
      ]
    },
    {
      "cell_type": "code",
      "execution_count": null,
      "metadata": {
        "colab": {
          "base_uri": "https://localhost:8080/",
          "height": 300
        },
        "id": "f_cnBuN-myQZ",
        "outputId": "e014f2e1-5d82-405a-ddab-2036a8415ce6"
      },
      "outputs": [
        {
          "data": {
            "text/html": [
              "\n",
              "  <div id=\"df-5a983a76-107b-4d3c-ae7b-8266c8901f11\">\n",
              "    <div class=\"colab-df-container\">\n",
              "      <div>\n",
              "<style scoped>\n",
              "    .dataframe tbody tr th:only-of-type {\n",
              "        vertical-align: middle;\n",
              "    }\n",
              "\n",
              "    .dataframe tbody tr th {\n",
              "        vertical-align: top;\n",
              "    }\n",
              "\n",
              "    .dataframe thead th {\n",
              "        text-align: right;\n",
              "    }\n",
              "</style>\n",
              "<table border=\"1\" class=\"dataframe\">\n",
              "  <thead>\n",
              "    <tr style=\"text-align: right;\">\n",
              "      <th></th>\n",
              "      <th>acousticness</th>\n",
              "      <th>danceability</th>\n",
              "      <th>energy</th>\n",
              "      <th>instrumentalness</th>\n",
              "      <th>key</th>\n",
              "      <th>liveness</th>\n",
              "      <th>loudness</th>\n",
              "      <th>speechiness</th>\n",
              "      <th>tempo</th>\n",
              "      <th>time_signature</th>\n",
              "      <th>valence</th>\n",
              "    </tr>\n",
              "  </thead>\n",
              "  <tbody>\n",
              "    <tr>\n",
              "      <th>count</th>\n",
              "      <td>130663.000000</td>\n",
              "      <td>130663.000000</td>\n",
              "      <td>130663.000000</td>\n",
              "      <td>130663.000000</td>\n",
              "      <td>130663.000000</td>\n",
              "      <td>130663.000000</td>\n",
              "      <td>130663.000000</td>\n",
              "      <td>130663.000000</td>\n",
              "      <td>130663.000000</td>\n",
              "      <td>130663.000000</td>\n",
              "      <td>130663.000000</td>\n",
              "    </tr>\n",
              "    <tr>\n",
              "      <th>mean</th>\n",
              "      <td>0.343876</td>\n",
              "      <td>0.583804</td>\n",
              "      <td>0.569196</td>\n",
              "      <td>0.224018</td>\n",
              "      <td>0.475627</td>\n",
              "      <td>0.195081</td>\n",
              "      <td>0.809404</td>\n",
              "      <td>0.115958</td>\n",
              "      <td>0.477926</td>\n",
              "      <td>0.775797</td>\n",
              "      <td>0.439630</td>\n",
              "    </tr>\n",
              "    <tr>\n",
              "      <th>std</th>\n",
              "      <td>0.347029</td>\n",
              "      <td>0.190840</td>\n",
              "      <td>0.260312</td>\n",
              "      <td>0.360328</td>\n",
              "      <td>0.327518</td>\n",
              "      <td>0.167901</td>\n",
              "      <td>0.105886</td>\n",
              "      <td>0.128703</td>\n",
              "      <td>0.120647</td>\n",
              "      <td>0.102881</td>\n",
              "      <td>0.259079</td>\n",
              "    </tr>\n",
              "    <tr>\n",
              "      <th>min</th>\n",
              "      <td>0.000000</td>\n",
              "      <td>0.000000</td>\n",
              "      <td>0.000000</td>\n",
              "      <td>0.000000</td>\n",
              "      <td>0.000000</td>\n",
              "      <td>0.000000</td>\n",
              "      <td>0.000000</td>\n",
              "      <td>0.000000</td>\n",
              "      <td>0.000000</td>\n",
              "      <td>0.000000</td>\n",
              "      <td>0.000000</td>\n",
              "    </tr>\n",
              "    <tr>\n",
              "      <th>25%</th>\n",
              "      <td>0.031727</td>\n",
              "      <td>0.460843</td>\n",
              "      <td>0.396000</td>\n",
              "      <td>0.000000</td>\n",
              "      <td>0.181818</td>\n",
              "      <td>0.097598</td>\n",
              "      <td>0.778274</td>\n",
              "      <td>0.040269</td>\n",
              "      <td>0.384082</td>\n",
              "      <td>0.800000</td>\n",
              "      <td>0.224000</td>\n",
              "    </tr>\n",
              "    <tr>\n",
              "      <th>50%</th>\n",
              "      <td>0.203815</td>\n",
              "      <td>0.607430</td>\n",
              "      <td>0.603000</td>\n",
              "      <td>0.000149</td>\n",
              "      <td>0.454545</td>\n",
              "      <td>0.124124</td>\n",
              "      <td>0.841682</td>\n",
              "      <td>0.057867</td>\n",
              "      <td>0.480141</td>\n",
              "      <td>0.800000</td>\n",
              "      <td>0.420000</td>\n",
              "    </tr>\n",
              "    <tr>\n",
              "      <th>75%</th>\n",
              "      <td>0.638554</td>\n",
              "      <td>0.729920</td>\n",
              "      <td>0.775000</td>\n",
              "      <td>0.440000</td>\n",
              "      <td>0.727273</td>\n",
              "      <td>0.236236</td>\n",
              "      <td>0.878814</td>\n",
              "      <td>0.133540</td>\n",
              "      <td>0.558606</td>\n",
              "      <td>0.800000</td>\n",
              "      <td>0.638000</td>\n",
              "    </tr>\n",
              "    <tr>\n",
              "      <th>max</th>\n",
              "      <td>1.000000</td>\n",
              "      <td>1.000000</td>\n",
              "      <td>1.000000</td>\n",
              "      <td>1.000000</td>\n",
              "      <td>1.000000</td>\n",
              "      <td>1.000000</td>\n",
              "      <td>1.000000</td>\n",
              "      <td>1.000000</td>\n",
              "      <td>1.000000</td>\n",
              "      <td>1.000000</td>\n",
              "      <td>1.000000</td>\n",
              "    </tr>\n",
              "  </tbody>\n",
              "</table>\n",
              "</div>\n",
              "      <button class=\"colab-df-convert\" onclick=\"convertToInteractive('df-5a983a76-107b-4d3c-ae7b-8266c8901f11')\"\n",
              "              title=\"Convert this dataframe to an interactive table.\"\n",
              "              style=\"display:none;\">\n",
              "        \n",
              "  <svg xmlns=\"http://www.w3.org/2000/svg\" height=\"24px\"viewBox=\"0 0 24 24\"\n",
              "       width=\"24px\">\n",
              "    <path d=\"M0 0h24v24H0V0z\" fill=\"none\"/>\n",
              "    <path d=\"M18.56 5.44l.94 2.06.94-2.06 2.06-.94-2.06-.94-.94-2.06-.94 2.06-2.06.94zm-11 1L8.5 8.5l.94-2.06 2.06-.94-2.06-.94L8.5 2.5l-.94 2.06-2.06.94zm10 10l.94 2.06.94-2.06 2.06-.94-2.06-.94-.94-2.06-.94 2.06-2.06.94z\"/><path d=\"M17.41 7.96l-1.37-1.37c-.4-.4-.92-.59-1.43-.59-.52 0-1.04.2-1.43.59L10.3 9.45l-7.72 7.72c-.78.78-.78 2.05 0 2.83L4 21.41c.39.39.9.59 1.41.59.51 0 1.02-.2 1.41-.59l7.78-7.78 2.81-2.81c.8-.78.8-2.07 0-2.86zM5.41 20L4 18.59l7.72-7.72 1.47 1.35L5.41 20z\"/>\n",
              "  </svg>\n",
              "      </button>\n",
              "      \n",
              "  <style>\n",
              "    .colab-df-container {\n",
              "      display:flex;\n",
              "      flex-wrap:wrap;\n",
              "      gap: 12px;\n",
              "    }\n",
              "\n",
              "    .colab-df-convert {\n",
              "      background-color: #E8F0FE;\n",
              "      border: none;\n",
              "      border-radius: 50%;\n",
              "      cursor: pointer;\n",
              "      display: none;\n",
              "      fill: #1967D2;\n",
              "      height: 32px;\n",
              "      padding: 0 0 0 0;\n",
              "      width: 32px;\n",
              "    }\n",
              "\n",
              "    .colab-df-convert:hover {\n",
              "      background-color: #E2EBFA;\n",
              "      box-shadow: 0px 1px 2px rgba(60, 64, 67, 0.3), 0px 1px 3px 1px rgba(60, 64, 67, 0.15);\n",
              "      fill: #174EA6;\n",
              "    }\n",
              "\n",
              "    [theme=dark] .colab-df-convert {\n",
              "      background-color: #3B4455;\n",
              "      fill: #D2E3FC;\n",
              "    }\n",
              "\n",
              "    [theme=dark] .colab-df-convert:hover {\n",
              "      background-color: #434B5C;\n",
              "      box-shadow: 0px 1px 3px 1px rgba(0, 0, 0, 0.15);\n",
              "      filter: drop-shadow(0px 1px 2px rgba(0, 0, 0, 0.3));\n",
              "      fill: #FFFFFF;\n",
              "    }\n",
              "  </style>\n",
              "\n",
              "      <script>\n",
              "        const buttonEl =\n",
              "          document.querySelector('#df-5a983a76-107b-4d3c-ae7b-8266c8901f11 button.colab-df-convert');\n",
              "        buttonEl.style.display =\n",
              "          google.colab.kernel.accessAllowed ? 'block' : 'none';\n",
              "\n",
              "        async function convertToInteractive(key) {\n",
              "          const element = document.querySelector('#df-5a983a76-107b-4d3c-ae7b-8266c8901f11');\n",
              "          const dataTable =\n",
              "            await google.colab.kernel.invokeFunction('convertToInteractive',\n",
              "                                                     [key], {});\n",
              "          if (!dataTable) return;\n",
              "\n",
              "          const docLinkHtml = 'Like what you see? Visit the ' +\n",
              "            '<a target=\"_blank\" href=https://colab.research.google.com/notebooks/data_table.ipynb>data table notebook</a>'\n",
              "            + ' to learn more about interactive tables.';\n",
              "          element.innerHTML = '';\n",
              "          dataTable['output_type'] = 'display_data';\n",
              "          await google.colab.output.renderOutput(dataTable, element);\n",
              "          const docLink = document.createElement('div');\n",
              "          docLink.innerHTML = docLinkHtml;\n",
              "          element.appendChild(docLink);\n",
              "        }\n",
              "      </script>\n",
              "    </div>\n",
              "  </div>\n",
              "  "
            ],
            "text/plain": [
              "        acousticness   danceability         energy  instrumentalness  \\\n",
              "count  130663.000000  130663.000000  130663.000000     130663.000000   \n",
              "mean        0.343876       0.583804       0.569196          0.224018   \n",
              "std         0.347029       0.190840       0.260312          0.360328   \n",
              "min         0.000000       0.000000       0.000000          0.000000   \n",
              "25%         0.031727       0.460843       0.396000          0.000000   \n",
              "50%         0.203815       0.607430       0.603000          0.000149   \n",
              "75%         0.638554       0.729920       0.775000          0.440000   \n",
              "max         1.000000       1.000000       1.000000          1.000000   \n",
              "\n",
              "                 key       liveness       loudness    speechiness  \\\n",
              "count  130663.000000  130663.000000  130663.000000  130663.000000   \n",
              "mean        0.475627       0.195081       0.809404       0.115958   \n",
              "std         0.327518       0.167901       0.105886       0.128703   \n",
              "min         0.000000       0.000000       0.000000       0.000000   \n",
              "25%         0.181818       0.097598       0.778274       0.040269   \n",
              "50%         0.454545       0.124124       0.841682       0.057867   \n",
              "75%         0.727273       0.236236       0.878814       0.133540   \n",
              "max         1.000000       1.000000       1.000000       1.000000   \n",
              "\n",
              "               tempo  time_signature        valence  \n",
              "count  130663.000000   130663.000000  130663.000000  \n",
              "mean        0.477926        0.775797       0.439630  \n",
              "std         0.120647        0.102881       0.259079  \n",
              "min         0.000000        0.000000       0.000000  \n",
              "25%         0.384082        0.800000       0.224000  \n",
              "50%         0.480141        0.800000       0.420000  \n",
              "75%         0.558606        0.800000       0.638000  \n",
              "max         1.000000        1.000000       1.000000  "
            ]
          },
          "execution_count": 21,
          "metadata": {},
          "output_type": "execute_result"
        }
      ],
      "source": [
        "dataset.describe()"
      ]
    },
    {
      "cell_type": "markdown",
      "metadata": {
        "id": "DhWDKENK2hSz"
      },
      "source": [
        "### **Normalized Data Distribution**"
      ]
    },
    {
      "cell_type": "code",
      "execution_count": null,
      "metadata": {
        "colab": {
          "base_uri": "https://localhost:8080/",
          "height": 584
        },
        "id": "ieptCipQmqYV",
        "outputId": "22d9ee7a-c7f4-4273-dcab-67657c04e76b"
      },
      "outputs": [
        {
          "data": {
            "text/plain": [
              "<matplotlib.legend.Legend at 0x7f0ae7a40c40>"
            ]
          },
          "execution_count": 22,
          "metadata": {},
          "output_type": "execute_result"
        },
        {
          "data": {
            "image/png": "[encoded data removed]",
            "text/plain": [
              "<Figure size 1440x648 with 1 Axes>"
            ]
          },
          "metadata": {},
          "output_type": "display_data"
        }
      ],
      "source": [
        "import matplotlib.pyplot as plt\n",
        "plt.figure(figsize=(20,9))\n",
        "plt.title(\"Data Distribution Graph\")\n",
        "plt.xlabel(\"Range\")\n",
        "#plt1.ylabel(\"\")\n",
        "columns=dataset.columns\n",
        "for cols in columns:\n",
        "  sns.kdeplot(data=dataset,x=cols, shade=True,label=cols)\n",
        "plt.legend()"
      ]
    },
    {
      "cell_type": "markdown",
      "metadata": {
        "id": "j4vo786Qtf6r"
      },
      "source": [
        "## ***Training Supervised Models***"
      ]
    },
    {
      "cell_type": "markdown",
      "metadata": {
        "id": "hd1GVGsaxaMQ"
      },
      "source": [
        "### ***KNN***"
      ]
    },
    {
      "cell_type": "code",
      "execution_count": null,
      "metadata": {
        "id": "7OAjxpWktjtG"
      },
      "outputs": [],
      "source": [
        "from sklearn.model_selection import train_test_split\n",
        "\n",
        "X = supervised_dataset.drop(columns = [\"mood\"]).values\n",
        "Y = supervised_dataset[\"mood\"].values\n",
        "\n",
        "X_train, X_test, Y_train, Y_test = train_test_split(X,Y, test_size = 0.20, random_state = 1)"
      ]
    },
    {
      "cell_type": "code",
      "execution_count": null,
      "metadata": {
        "colab": {
          "base_uri": "https://localhost:8080/"
        },
        "id": "S9dBHJYRu3Nt",
        "outputId": "d0a23a05-5ba7-48f1-9e43-2c034ed44c6f"
      },
      "outputs": [
        {
          "name": "stdout",
          "output_type": "stream",
          "text": [
            "Training Size: (548, 11)\n",
            "Testing Size: (138, 11)\n"
          ]
        }
      ],
      "source": [
        "print(f\"Training Size: {X_train.shape}\\nTesting Size: {X_test.shape}\")"
      ]
    },
    {
      "cell_type": "code",
      "execution_count": null,
      "metadata": {
        "id": "pOC0-4H8t_uz"
      },
      "outputs": [],
      "source": [
        "from sklearn.neighbors import KNeighborsClassifier\n",
        "\n",
        "classifier = KNeighborsClassifier(n_neighbors = 5)\n",
        "classifier.fit(X_train,Y_train)\n",
        "Y_pred = classifier.predict(X_test)"
      ]
    },
    {
      "cell_type": "code",
      "execution_count": null,
      "metadata": {
        "colab": {
          "base_uri": "https://localhost:8080/"
        },
        "id": "JozkDg1JwAlB",
        "outputId": "672c117b-0589-499a-81db-5554796a7008"
      },
      "outputs": [
        {
          "name": "stdout",
          "output_type": "stream",
          "text": [
            "[[35  0  0  1]\n",
            " [ 0 28  8  1]\n",
            " [ 0  7 16  0]\n",
            " [ 4  0  6 32]]\n",
            "              precision    recall  f1-score   support\n",
            "\n",
            "        Calm       0.90      0.97      0.93        36\n",
            "   Energetic       0.80      0.76      0.78        37\n",
            "       Happy       0.53      0.70      0.60        23\n",
            "         Sad       0.94      0.76      0.84        42\n",
            "\n",
            "    accuracy                           0.80       138\n",
            "   macro avg       0.79      0.80      0.79       138\n",
            "weighted avg       0.82      0.80      0.81       138\n",
            "\n",
            "0.8043478260869565\n"
          ]
        }
      ],
      "source": [
        "from sklearn.metrics import confusion_matrix, classification_report, accuracy_score\n",
        "\n",
        "print(confusion_matrix(Y_test,Y_pred))\n",
        "print(classification_report(Y_test,Y_pred))\n",
        "print(accuracy_score(Y_test,Y_pred))"
      ]
    },
    {
      "cell_type": "markdown",
      "metadata": {
        "id": "ICECuHq3xeqU"
      },
      "source": [
        "### ***Decision Tree***"
      ]
    },
    {
      "cell_type": "code",
      "execution_count": null,
      "metadata": {
        "id": "_f3GnbhSxh-Z"
      },
      "outputs": [],
      "source": [
        "from sklearn.tree import DecisionTreeClassifier\n",
        "\n",
        "decisionTree = DecisionTreeClassifier(random_state=10).fit(X_train,Y_train)\n",
        "Y_pred_tree = decisionTree.predict(X_test)"
      ]
    },
    {
      "cell_type": "code",
      "execution_count": null,
      "metadata": {
        "colab": {
          "base_uri": "https://localhost:8080/",
          "height": 505
        },
        "id": "ElSS_nHkxzfv",
        "outputId": "5ae01bec-cc3f-48f0-8f53-de2ed30aabfa"
      },
      "outputs": [
        {
          "name": "stdout",
          "output_type": "stream",
          "text": [
            "<sklearn.metrics._plot.confusion_matrix.ConfusionMatrixDisplay object at 0x7f0ae37ddf70>\n",
            "              precision    recall  f1-score   support\n",
            "\n",
            "        Calm       0.97      0.97      0.97        36\n",
            "   Energetic       0.72      0.70      0.71        37\n",
            "       Happy       0.42      0.43      0.43        23\n",
            "         Sad       0.88      0.88      0.88        42\n",
            "\n",
            "    accuracy                           0.78       138\n",
            "   macro avg       0.75      0.75      0.75       138\n",
            "weighted avg       0.78      0.78      0.78       138\n",
            "\n",
            "0.782608695652174\n"
          ]
        },
        {
          "data": {
            "image/png": "[encoded data removed]",
            "text/plain": [
              "<Figure size 432x288 with 2 Axes>"
            ]
          },
          "metadata": {},
          "output_type": "display_data"
        }
      ],
      "source": [
        "from sklearn.metrics import ConfusionMatrixDisplay, classification_report, accuracy_score\n",
        "\n",
        "print(ConfusionMatrixDisplay.from_predictions(Y_test,Y_pred_tree))\n",
        "print(classification_report(Y_test,Y_pred_tree))\n",
        "print(accuracy_score(Y_test,Y_pred_tree))"
      ]
    },
    {
      "cell_type": "markdown",
      "metadata": {
        "id": "lCMENp9gD2JL"
      },
      "source": [
        "### ***Random Forest Classifier***"
      ]
    },
    {
      "cell_type": "code",
      "execution_count": null,
      "metadata": {
        "id": "YFkcFeLiEJvY"
      },
      "outputs": [],
      "source": [
        "from sklearn.ensemble import RandomForestClassifier\n",
        "clf=RandomForestClassifier(n_estimators=50,criterion='entropy')\n",
        "clf.fit(X_train,Y_train)\n",
        "predictions=clf.predict(X_train)\n",
        "                           "
      ]
    },
    {
      "cell_type": "code",
      "execution_count": null,
      "metadata": {
        "colab": {
          "base_uri": "https://localhost:8080/",
          "height": 509
        },
        "id": "f_aszdC6E-C5",
        "outputId": "03ede6e1-df28-43a4-b28b-b99c16a94c34"
      },
      "outputs": [
        {
          "name": "stdout",
          "output_type": "stream",
          "text": [
            "<sklearn.metrics._plot.confusion_matrix.ConfusionMatrixDisplay object at 0x7f0ae2eabca0>\n",
            "0.8043478260869565\n",
            "              precision    recall  f1-score   support\n",
            "\n",
            "        Calm       0.90      0.97      0.93        36\n",
            "   Energetic       0.80      0.76      0.78        37\n",
            "       Happy       0.53      0.70      0.60        23\n",
            "         Sad       0.94      0.76      0.84        42\n",
            "\n",
            "    accuracy                           0.80       138\n",
            "   macro avg       0.79      0.80      0.79       138\n",
            "weighted avg       0.82      0.80      0.81       138\n",
            "\n"
          ]
        },
        {
          "data": {
            "image/png": "[encoded data removed]",
            "text/plain": [
              "<Figure size 432x288 with 2 Axes>"
            ]
          },
          "metadata": {},
          "output_type": "display_data"
        }
      ],
      "source": [
        "from sklearn.metrics import ConfusionMatrixDisplay,classification_report,accuracy_score\n",
        "print(ConfusionMatrixDisplay.from_predictions(Y_test,Y_pred))\n",
        "print(accuracy_score(Y_test,Y_pred))\n",
        "print(classification_report(Y_test,Y_pred))"
      ]
    },
    {
      "cell_type": "markdown",
      "metadata": {
        "id": "dE4uvGqVLpN1"
      },
      "source": [
        "### **XGBoost**"
      ]
    },
    {
      "cell_type": "code",
      "execution_count": null,
      "metadata": {
        "id": "m0moASuwtHVZ"
      },
      "outputs": [],
      "source": [
        "from xgboost import XGBClassifier\n",
        "clf=XGBClassifier()\n",
        "clf.fit(X_train,Y_train)\n",
        "Y_pred=clf.predict(X_test)"
      ]
    },
    {
      "cell_type": "code",
      "execution_count": null,
      "metadata": {
        "colab": {
          "base_uri": "https://localhost:8080/",
          "height": 509
        },
        "id": "dXEgeG9RtXiv",
        "outputId": "26c9272a-003c-423f-9dc5-a88a6d6a18ee"
      },
      "outputs": [
        {
          "name": "stdout",
          "output_type": "stream",
          "text": [
            "<sklearn.metrics._plot.confusion_matrix.ConfusionMatrixDisplay object at 0x7f0ae2eab520>\n",
            "0.8623188405797102\n",
            "              precision    recall  f1-score   support\n",
            "\n",
            "        Calm       0.97      0.97      0.97        36\n",
            "   Energetic       0.82      0.76      0.79        37\n",
            "       Happy       0.64      0.70      0.67        23\n",
            "         Sad       0.93      0.95      0.94        42\n",
            "\n",
            "    accuracy                           0.86       138\n",
            "   macro avg       0.84      0.84      0.84       138\n",
            "weighted avg       0.86      0.86      0.86       138\n",
            "\n"
          ]
        },
        {
          "data": {
            "image/png": "[encoded data removed]",
            "text/plain": [
              "<Figure size 432x288 with 2 Axes>"
            ]
          },
          "metadata": {},
          "output_type": "display_data"
        }
      ],
      "source": [
        "from sklearn.metrics import ConfusionMatrixDisplay,classification_report,accuracy_score\n",
        "print(ConfusionMatrixDisplay.from_predictions(Y_test,Y_pred))\n",
        "print(accuracy_score(Y_test,Y_pred))\n",
        "print(classification_report(Y_test,Y_pred))"
      ]
    },
    {
      "cell_type": "code",
      "execution_count": null,
      "metadata": {
        "colab": {
          "base_uri": "https://localhost:8080/",
          "height": 571
        },
        "id": "sQ3VvxdmL_uQ",
        "outputId": "c3e96103-9dde-4b52-8372-1ffce911aebb"
      },
      "outputs": [
        {
          "data": {
            "text/plain": [
              "<matplotlib.axes._subplots.AxesSubplot at 0x7f0ae2c9ce20>"
            ]
          },
          "execution_count": 33,
          "metadata": {},
          "output_type": "execute_result"
        },
        {
          "data": {
            "image/png": "[encoded data removed]",
            "text/plain": [
              "<Figure size 1296x648 with 2 Axes>"
            ]
          },
          "metadata": {},
          "output_type": "display_data"
        }
      ],
      "source": [
        "plt.figure(figsize=(18,9))\n",
        "plt.title(\"Correlation Graph : Spotify Dataset\")\n",
        "sns.heatmap(supervised_dataset.corr(),annot=True,center=0, cmap='viridis_r')"
      ]
    },
    {
      "cell_type": "markdown",
      "metadata": {
        "id": "jDeYd2_JOThf"
      },
      "source": [
        "### ***Naive Bayes***"
      ]
    },
    {
      "cell_type": "code",
      "execution_count": null,
      "metadata": {
        "id": "j4xf7NYtOYwb"
      },
      "outputs": [],
      "source": [
        "from sklearn.naive_bayes import GaussianNB\n",
        "clf=GaussianNB()\n",
        "clf.fit(X_train,Y_train)\n",
        "Y_pred=clf.predict(X_test)\n"
      ]
    },
    {
      "cell_type": "code",
      "execution_count": null,
      "metadata": {
        "colab": {
          "base_uri": "https://localhost:8080/",
          "height": 505
        },
        "id": "xXHLNigCP2LW",
        "outputId": "624a12de-6198-4e2d-fdaf-82d76b0b5c78"
      },
      "outputs": [
        {
          "name": "stdout",
          "output_type": "stream",
          "text": [
            "<sklearn.metrics._plot.confusion_matrix.ConfusionMatrixDisplay object at 0x7f0ada03f640>\n",
            "0.8333333333333334\n",
            "              precision    recall  f1-score   support\n",
            "\n",
            "        Calm       0.97      0.92      0.94        36\n",
            "   Energetic       0.88      0.78      0.83        37\n",
            "       Happy       0.65      0.74      0.69        23\n",
            "         Sad       0.80      0.86      0.83        42\n",
            "\n",
            "    accuracy                           0.83       138\n",
            "   macro avg       0.83      0.82      0.82       138\n",
            "weighted avg       0.84      0.83      0.84       138\n",
            "\n"
          ]
        },
        {
          "data": {
            "image/png": "[encoded data removed]",
            "text/plain": [
              "<Figure size 432x288 with 2 Axes>"
            ]
          },
          "metadata": {},
          "output_type": "display_data"
        }
      ],
      "source": [
        "from sklearn.metrics import ConfusionMatrixDisplay,classification_report,accuracy_score\n",
        "print(ConfusionMatrixDisplay.from_predictions(Y_test,Y_pred))\n",
        "print(accuracy_score(Y_test,Y_pred))\n",
        "print(classification_report(Y_test,Y_pred))"
      ]
    },
    {
      "cell_type": "markdown",
      "metadata": {
        "id": "57CxWlZOTVjE"
      },
      "source": [
        "## **Generating the new dataset**\n",
        "The best performing model is **(XGBoost)** utilised to produce new training samples by taking the vast Spotify dataset as input and effectively estimating their moods. This newly produced training data is utilised to train a new model, which is then used to the mood prediction process."
      ]
    },
    {
      "cell_type": "code",
      "execution_count": null,
      "metadata": {
        "id": "T5w2q_HRZkNn"
      },
      "outputs": [],
      "source": [
        "clf=XGBClassifier()\n",
        "X_test=dataset.values\n",
        "clf.fit(X_train,Y_train)\n",
        "Y_pred=clf.predict(X_test)"
      ]
    },
    {
      "cell_type": "code",
      "execution_count": null,
      "metadata": {
        "colab": {
          "base_uri": "https://localhost:8080/"
        },
        "id": "9iGZpT_Tbg11",
        "outputId": "f0ef676f-d595-4c7e-a2a8-dc5739d1aa01"
      },
      "outputs": [
        {
          "data": {
            "text/plain": [
              "XGBClassifier(objective='multi:softprob')"
            ]
          },
          "execution_count": 37,
          "metadata": {},
          "output_type": "execute_result"
        }
      ],
      "source": [
        "Y_pred.shape\n",
        "clf.fit(X_test,Y_pred)"
      ]
    },
    {
      "cell_type": "code",
      "execution_count": null,
      "metadata": {
        "id": "psDMT_qwtwqS"
      },
      "outputs": [],
      "source": [
        "!pip install spotipy > /dev/null"
      ]
    },
    {
      "cell_type": "code",
      "execution_count": null,
      "metadata": {
        "id": "amiYQWQ-20MJ"
      },
      "outputs": [],
      "source": [
        "import spotipy\n",
        "from spotipy.oauth2 import SpotifyClientCredentials\n",
        "\n",
        "auth_manager = SpotifyClientCredentials(client_id=\"your_client_Id\",client_secret=\"your_client_secret\")\n",
        "sp = spotipy.Spotify(auth_manager=auth_manager)"
      ]
    },
    {
      "cell_type": "code",
      "execution_count": null,
      "metadata": {
        "id": "2l-EvJfxRiQ2"
      },
      "outputs": [],
      "source": [
        "def find_moods(track):\n",
        "  audio=sp.audio_features(tracks=[track])\n",
        "  display(pd.DataFrame(audio[0],index=[0]))\n",
        "  if not audio[0]:\n",
        "    print(\"Please enter valid URL and try again\")\n",
        "    return\n",
        "  print('Song Name: \\t',sp.track(track)['name'])\n",
        "  col=list(dataset.columns)\n",
        "  test = []\n",
        "  for feature in col:\n",
        "    test.append(audio[0][feature])\n",
        "  test=np.array(test)\n",
        "  test=test.reshape(1,-1)\n",
        "  pred=clf.predict(test)\n",
        "  return pred[0]"
      ]
    },
    {
      "cell_type": "code",
      "execution_count": null,
      "metadata": {
        "colab": {
          "background_save": true,
          "base_uri": "https://localhost:8080/",
          "height": 383
        },
        "id": "WIl7gpexTIZd",
        "outputId": "7a1e04ab-f154-4aef-b4e6-bf14dba559b6"
      },
      "outputs": [
        {
          "name": "stdout",
          "output_type": "stream",
          "text": [
            "Track: \t 3ZbNhwAktyOwdypVSQhyy3\n"
          ]
        },
        {
          "data": {
            "text/html": [
              "\n",
              "  <div id=\"df-e4447532-5d4e-431d-89e0-df15df22db86\">\n",
              "    <div class=\"colab-df-container\">\n",
              "      <div>\n",
              "<style scoped>\n",
              "    .dataframe tbody tr th:only-of-type {\n",
              "        vertical-align: middle;\n",
              "    }\n",
              "\n",
              "    .dataframe tbody tr th {\n",
              "        vertical-align: top;\n",
              "    }\n",
              "\n",
              "    .dataframe thead th {\n",
              "        text-align: right;\n",
              "    }\n",
              "</style>\n",
              "<table border=\"1\" class=\"dataframe\">\n",
              "  <thead>\n",
              "    <tr style=\"text-align: right;\">\n",
              "      <th></th>\n",
              "      <th>danceability</th>\n",
              "      <th>energy</th>\n",
              "      <th>key</th>\n",
              "      <th>loudness</th>\n",
              "      <th>mode</th>\n",
              "      <th>speechiness</th>\n",
              "      <th>acousticness</th>\n",
              "      <th>instrumentalness</th>\n",
              "      <th>liveness</th>\n",
              "      <th>valence</th>\n",
              "      <th>tempo</th>\n",
              "      <th>type</th>\n",
              "      <th>id</th>\n",
              "      <th>uri</th>\n",
              "      <th>track_href</th>\n",
              "      <th>analysis_url</th>\n",
              "      <th>duration_ms</th>\n",
              "      <th>time_signature</th>\n",
              "    </tr>\n",
              "  </thead>\n",
              "  <tbody>\n",
              "    <tr>\n",
              "      <th>0</th>\n",
              "      <td>0.791</td>\n",
              "      <td>0.882</td>\n",
              "      <td>7</td>\n",
              "      <td>-5.624</td>\n",
              "      <td>0</td>\n",
              "      <td>0.147</td>\n",
              "      <td>0.352</td>\n",
              "      <td>0.000549</td>\n",
              "      <td>0.0672</td>\n",
              "      <td>0.81</td>\n",
              "      <td>113.026</td>\n",
              "      <td>audio_features</td>\n",
              "      <td>3ZbNhwAktyOwdypVSQhyy3</td>\n",
              "      <td>spotify:track:3ZbNhwAktyOwdypVSQhyy3</td>\n",
              "      <td>https://api.spotify.com/v1/tracks/3ZbNhwAktyOw...</td>\n",
              "      <td>https://api.spotify.com/v1/audio-analysis/3ZbN...</td>\n",
              "      <td>336973</td>\n",
              "      <td>4</td>\n",
              "    </tr>\n",
              "  </tbody>\n",
              "</table>\n",
              "</div>\n",
              "      <button class=\"colab-df-convert\" onclick=\"convertToInteractive('df-e4447532-5d4e-431d-89e0-df15df22db86')\"\n",
              "              title=\"Convert this dataframe to an interactive table.\"\n",
              "              style=\"display:none;\">\n",
              "        \n",
              "  <svg xmlns=\"http://www.w3.org/2000/svg\" height=\"24px\"viewBox=\"0 0 24 24\"\n",
              "       width=\"24px\">\n",
              "    <path d=\"M0 0h24v24H0V0z\" fill=\"none\"/>\n",
              "    <path d=\"M18.56 5.44l.94 2.06.94-2.06 2.06-.94-2.06-.94-.94-2.06-.94 2.06-2.06.94zm-11 1L8.5 8.5l.94-2.06 2.06-.94-2.06-.94L8.5 2.5l-.94 2.06-2.06.94zm10 10l.94 2.06.94-2.06 2.06-.94-2.06-.94-.94-2.06-.94 2.06-2.06.94z\"/><path d=\"M17.41 7.96l-1.37-1.37c-.4-.4-.92-.59-1.43-.59-.52 0-1.04.2-1.43.59L10.3 9.45l-7.72 7.72c-.78.78-.78 2.05 0 2.83L4 21.41c.39.39.9.59 1.41.59.51 0 1.02-.2 1.41-.59l7.78-7.78 2.81-2.81c.8-.78.8-2.07 0-2.86zM5.41 20L4 18.59l7.72-7.72 1.47 1.35L5.41 20z\"/>\n",
              "  </svg>\n",
              "      </button>\n",
              "      \n",
              "  <style>\n",
              "    .colab-df-container {\n",
              "      display:flex;\n",
              "      flex-wrap:wrap;\n",
              "      gap: 12px;\n",
              "    }\n",
              "\n",
              "    .colab-df-convert {\n",
              "      background-color: #E8F0FE;\n",
              "      border: none;\n",
              "      border-radius: 50%;\n",
              "      cursor: pointer;\n",
              "      display: none;\n",
              "      fill: #1967D2;\n",
              "      height: 32px;\n",
              "      padding: 0 0 0 0;\n",
              "      width: 32px;\n",
              "    }\n",
              "\n",
              "    .colab-df-convert:hover {\n",
              "      background-color: #E2EBFA;\n",
              "      box-shadow: 0px 1px 2px rgba(60, 64, 67, 0.3), 0px 1px 3px 1px rgba(60, 64, 67, 0.15);\n",
              "      fill: #174EA6;\n",
              "    }\n",
              "\n",
              "    [theme=dark] .colab-df-convert {\n",
              "      background-color: #3B4455;\n",
              "      fill: #D2E3FC;\n",
              "    }\n",
              "\n",
              "    [theme=dark] .colab-df-convert:hover {\n",
              "      background-color: #434B5C;\n",
              "      box-shadow: 0px 1px 3px 1px rgba(0, 0, 0, 0.15);\n",
              "      filter: drop-shadow(0px 1px 2px rgba(0, 0, 0, 0.3));\n",
              "      fill: #FFFFFF;\n",
              "    }\n",
              "  </style>\n",
              "\n",
              "      <script>\n",
              "        const buttonEl =\n",
              "          document.querySelector('#df-e4447532-5d4e-431d-89e0-df15df22db86 button.colab-df-convert');\n",
              "        buttonEl.style.display =\n",
              "          google.colab.kernel.accessAllowed ? 'block' : 'none';\n",
              "\n",
              "        async function convertToInteractive(key) {\n",
              "          const element = document.querySelector('#df-e4447532-5d4e-431d-89e0-df15df22db86');\n",
              "          const dataTable =\n",
              "            await google.colab.kernel.invokeFunction('convertToInteractive',\n",
              "                                                     [key], {});\n",
              "          if (!dataTable) return;\n",
              "\n",
              "          const docLinkHtml = 'Like what you see? Visit the ' +\n",
              "            '<a target=\"_blank\" href=https://colab.research.google.com/notebooks/data_table.ipynb>data table notebook</a>'\n",
              "            + ' to learn more about interactive tables.';\n",
              "          element.innerHTML = '';\n",
              "          dataTable['output_type'] = 'display_data';\n",
              "          await google.colab.output.renderOutput(dataTable, element);\n",
              "          const docLink = document.createElement('div');\n",
              "          docLink.innerHTML = docLinkHtml;\n",
              "          element.appendChild(docLink);\n",
              "        }\n",
              "      </script>\n",
              "    </div>\n",
              "  </div>\n",
              "  "
            ],
            "text/plain": [
              "   danceability  energy  key  loudness  mode  speechiness  acousticness  \\\n",
              "0         0.791   0.882    7    -5.624     0        0.147         0.352   \n",
              "\n",
              "   instrumentalness  liveness  valence    tempo            type  \\\n",
              "0          0.000549    0.0672     0.81  113.026  audio_features   \n",
              "\n",
              "                       id                                   uri  \\\n",
              "0  3ZbNhwAktyOwdypVSQhyy3  spotify:track:3ZbNhwAktyOwdypVSQhyy3   \n",
              "\n",
              "                                          track_href  \\\n",
              "0  https://api.spotify.com/v1/tracks/3ZbNhwAktyOw...   \n",
              "\n",
              "                                        analysis_url  duration_ms  \\\n",
              "0  https://api.spotify.com/v1/audio-analysis/3ZbN...       336973   \n",
              "\n",
              "   time_signature  \n",
              "0               4  "
            ]
          },
          "metadata": {},
          "output_type": "display_data"
        },
        {
          "name": "stdout",
          "output_type": "stream",
          "text": [
            "Song Name: \t Andangakka\n",
            "\u001b[92mMood: \t\t Happy \u001b[0m\n",
            "\n",
            "Track: \t 6enTKMh4xcgKGOtQrJxBAY\n"
          ]
        },
        {
          "data": {
            "text/html": [
              "\n",
              "  <div id=\"df-90a9a548-c9ed-4420-a82b-6de025227325\">\n",
              "    <div class=\"colab-df-container\">\n",
              "      <div>\n",
              "<style scoped>\n",
              "    .dataframe tbody tr th:only-of-type {\n",
              "        vertical-align: middle;\n",
              "    }\n",
              "\n",
              "    .dataframe tbody tr th {\n",
              "        vertical-align: top;\n",
              "    }\n",
              "\n",
              "    .dataframe thead th {\n",
              "        text-align: right;\n",
              "    }\n",
              "</style>\n",
              "<table border=\"1\" class=\"dataframe\">\n",
              "  <thead>\n",
              "    <tr style=\"text-align: right;\">\n",
              "      <th></th>\n",
              "      <th>danceability</th>\n",
              "      <th>energy</th>\n",
              "      <th>key</th>\n",
              "      <th>loudness</th>\n",
              "      <th>mode</th>\n",
              "      <th>speechiness</th>\n",
              "      <th>acousticness</th>\n",
              "      <th>instrumentalness</th>\n",
              "      <th>liveness</th>\n",
              "      <th>valence</th>\n",
              "      <th>tempo</th>\n",
              "      <th>type</th>\n",
              "      <th>id</th>\n",
              "      <th>uri</th>\n",
              "      <th>track_href</th>\n",
              "      <th>analysis_url</th>\n",
              "      <th>duration_ms</th>\n",
              "      <th>time_signature</th>\n",
              "    </tr>\n",
              "  </thead>\n",
              "  <tbody>\n",
              "    <tr>\n",
              "      <th>0</th>\n",
              "      <td>0.625</td>\n",
              "      <td>0.596</td>\n",
              "      <td>4</td>\n",
              "      <td>-8.008</td>\n",
              "      <td>0</td>\n",
              "      <td>0.0679</td>\n",
              "      <td>0.793</td>\n",
              "      <td>0</td>\n",
              "      <td>0.12</td>\n",
              "      <td>0.964</td>\n",
              "      <td>141.272</td>\n",
              "      <td>audio_features</td>\n",
              "      <td>6enTKMh4xcgKGOtQrJxBAY</td>\n",
              "      <td>spotify:track:6enTKMh4xcgKGOtQrJxBAY</td>\n",
              "      <td>https://api.spotify.com/v1/tracks/6enTKMh4xcgK...</td>\n",
              "      <td>https://api.spotify.com/v1/audio-analysis/6enT...</td>\n",
              "      <td>309865</td>\n",
              "      <td>3</td>\n",
              "    </tr>\n",
              "  </tbody>\n",
              "</table>\n",
              "</div>\n",
              "      <button class=\"colab-df-convert\" onclick=\"convertToInteractive('df-90a9a548-c9ed-4420-a82b-6de025227325')\"\n",
              "              title=\"Convert this dataframe to an interactive table.\"\n",
              "              style=\"display:none;\">\n",
              "        \n",
              "  <svg xmlns=\"http://www.w3.org/2000/svg\" height=\"24px\"viewBox=\"0 0 24 24\"\n",
              "       width=\"24px\">\n",
              "    <path d=\"M0 0h24v24H0V0z\" fill=\"none\"/>\n",
              "    <path d=\"M18.56 5.44l.94 2.06.94-2.06 2.06-.94-2.06-.94-.94-2.06-.94 2.06-2.06.94zm-11 1L8.5 8.5l.94-2.06 2.06-.94-2.06-.94L8.5 2.5l-.94 2.06-2.06.94zm10 10l.94 2.06.94-2.06 2.06-.94-2.06-.94-.94-2.06-.94 2.06-2.06.94z\"/><path d=\"M17.41 7.96l-1.37-1.37c-.4-.4-.92-.59-1.43-.59-.52 0-1.04.2-1.43.59L10.3 9.45l-7.72 7.72c-.78.78-.78 2.05 0 2.83L4 21.41c.39.39.9.59 1.41.59.51 0 1.02-.2 1.41-.59l7.78-7.78 2.81-2.81c.8-.78.8-2.07 0-2.86zM5.41 20L4 18.59l7.72-7.72 1.47 1.35L5.41 20z\"/>\n",
              "  </svg>\n",
              "      </button>\n",
              "      \n",
              "  <style>\n",
              "    .colab-df-container {\n",
              "      display:flex;\n",
              "      flex-wrap:wrap;\n",
              "      gap: 12px;\n",
              "    }\n",
              "\n",
              "    .colab-df-convert {\n",
              "      background-color: #E8F0FE;\n",
              "      border: none;\n",
              "      border-radius: 50%;\n",
              "      cursor: pointer;\n",
              "      display: none;\n",
              "      fill: #1967D2;\n",
              "      height: 32px;\n",
              "      padding: 0 0 0 0;\n",
              "      width: 32px;\n",
              "    }\n",
              "\n",
              "    .colab-df-convert:hover {\n",
              "      background-color: #E2EBFA;\n",
              "      box-shadow: 0px 1px 2px rgba(60, 64, 67, 0.3), 0px 1px 3px 1px rgba(60, 64, 67, 0.15);\n",
              "      fill: #174EA6;\n",
              "    }\n",
              "\n",
              "    [theme=dark] .colab-df-convert {\n",
              "      background-color: #3B4455;\n",
              "      fill: #D2E3FC;\n",
              "    }\n",
              "\n",
              "    [theme=dark] .colab-df-convert:hover {\n",
              "      background-color: #434B5C;\n",
              "      box-shadow: 0px 1px 3px 1px rgba(0, 0, 0, 0.15);\n",
              "      filter: drop-shadow(0px 1px 2px rgba(0, 0, 0, 0.3));\n",
              "      fill: #FFFFFF;\n",
              "    }\n",
              "  </style>\n",
              "\n",
              "      <script>\n",
              "        const buttonEl =\n",
              "          document.querySelector('#df-90a9a548-c9ed-4420-a82b-6de025227325 button.colab-df-convert');\n",
              "        buttonEl.style.display =\n",
              "          google.colab.kernel.accessAllowed ? 'block' : 'none';\n",
              "\n",
              "        async function convertToInteractive(key) {\n",
              "          const element = document.querySelector('#df-90a9a548-c9ed-4420-a82b-6de025227325');\n",
              "          const dataTable =\n",
              "            await google.colab.kernel.invokeFunction('convertToInteractive',\n",
              "                                                     [key], {});\n",
              "          if (!dataTable) return;\n",
              "\n",
              "          const docLinkHtml = 'Like what you see? Visit the ' +\n",
              "            '<a target=\"_blank\" href=https://colab.research.google.com/notebooks/data_table.ipynb>data table notebook</a>'\n",
              "            + ' to learn more about interactive tables.';\n",
              "          element.innerHTML = '';\n",
              "          dataTable['output_type'] = 'display_data';\n",
              "          await google.colab.output.renderOutput(dataTable, element);\n",
              "          const docLink = document.createElement('div');\n",
              "          docLink.innerHTML = docLinkHtml;\n",
              "          element.appendChild(docLink);\n",
              "        }\n",
              "      </script>\n",
              "    </div>\n",
              "  </div>\n",
              "  "
            ],
            "text/plain": [
              "   danceability  energy  key  loudness  mode  speechiness  acousticness  \\\n",
              "0         0.625   0.596    4    -8.008     0       0.0679         0.793   \n",
              "\n",
              "   instrumentalness  liveness  valence    tempo            type  \\\n",
              "0                 0      0.12    0.964  141.272  audio_features   \n",
              "\n",
              "                       id                                   uri  \\\n",
              "0  6enTKMh4xcgKGOtQrJxBAY  spotify:track:6enTKMh4xcgKGOtQrJxBAY   \n",
              "\n",
              "                                          track_href  \\\n",
              "0  https://api.spotify.com/v1/tracks/6enTKMh4xcgK...   \n",
              "\n",
              "                                        analysis_url  duration_ms  \\\n",
              "0  https://api.spotify.com/v1/audio-analysis/6enT...       309865   \n",
              "\n",
              "   time_signature  \n",
              "0               3  "
            ]
          },
          "metadata": {},
          "output_type": "display_data"
        },
        {
          "name": "stdout",
          "output_type": "stream",
          "text": [
            "Song Name: \t Harivarasanam\n",
            "\u001b[92mMood: \t\t Happy \u001b[0m\n"
          ]
        }
      ],
      "source": [
        "\n",
        "while True:\n",
        "  song=input(\"Enter the link of the song:    \")\n",
        "  track = song.split(\"/\")[-1].split(\"?\")[0]\n",
        "  print('Track: \\t',track)\n",
        "  print('\\033[92m'+'Mood: \\t\\t',find_moods(track),'\\033[0m')\n",
        "  check=input(\"Do you want to continue? (Y/N):    \")\n",
        "  print()\n",
        "  if check == 'N' or check == 'n':\n",
        "    break"
      ]
    }
  ],
  "metadata": {
    "colab": {
      "provenance": []
    },
    "kernelspec": {
      "display_name": "Python 3",
      "name": "python3"
    },
    "language_info": {
      "name": "python"
    }
  },
  "nbformat": 4,
  "nbformat_minor": 0
}